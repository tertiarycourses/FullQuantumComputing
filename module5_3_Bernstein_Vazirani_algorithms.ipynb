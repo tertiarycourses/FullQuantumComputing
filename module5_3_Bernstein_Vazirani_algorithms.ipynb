{
  "nbformat": 4,
  "nbformat_minor": 0,
  "metadata": {
    "colab": {
      "name": "module5_3_Bernstein-Vazirani_algorithms.ipynb",
      "version": "0.3.2",
      "provenance": [],
      "collapsed_sections": []
    },
    "kernelspec": {
      "name": "python3",
      "display_name": "Python 3"
    },
    "accelerator": "GPU"
  },
  "cells": [
    {
      "metadata": {
        "id": "tPdgqGC00JXs",
        "colab_type": "text"
      },
      "cell_type": "markdown",
      "source": [
        "## Install Qiskit"
      ]
    },
    {
      "metadata": {
        "id": "ipCnYRu8vni-",
        "colab_type": "code",
        "colab": {}
      },
      "cell_type": "code",
      "source": [
        "!pip install qiskit"
      ],
      "execution_count": 0,
      "outputs": []
    },
    {
      "metadata": {
        "id": "f02k5qtf0Flw",
        "colab_type": "text"
      },
      "cell_type": "markdown",
      "source": [
        "##Login to IBM Q Experience"
      ]
    },
    {
      "metadata": {
        "id": "9V9ylp20R-wz",
        "colab_type": "code",
        "colab": {}
      },
      "cell_type": "code",
      "source": [
        "from qiskit import IBMQ\n",
        "IBMQ.save_account('d330b44b077d9ae56714c4ba96676236d87a63bf10cddb7e736e81658af8fab730e5a3aa92778da79f1fb93d29492a6f7f7fd9e074edb520e8b79b64dad61c0e')"
      ],
      "execution_count": 0,
      "outputs": []
    },
    {
      "metadata": {
        "id": "JgJBrANkxyP3",
        "colab_type": "code",
        "colab": {}
      },
      "cell_type": "code",
      "source": [
        "# importing Qiskit\n",
        "from qiskit import IBMQ, BasicAer\n",
        "from qiskit import QuantumCircuit, ClassicalRegister, QuantumRegister, execute\n",
        "from qiskit.tools.monitor import job_monitor\n",
        "\n",
        "# import basic plot tools\n",
        "from qiskit.tools.visualization import plot_histogram"
      ],
      "execution_count": 0,
      "outputs": []
    },
    {
      "metadata": {
        "id": "Z45_3qf9xz-_",
        "colab_type": "code",
        "colab": {}
      },
      "cell_type": "code",
      "source": [
        "# Load our saved IBMQ accounts.\n",
        "IBMQ.load_accounts()"
      ],
      "execution_count": 0,
      "outputs": []
    },
    {
      "metadata": {
        "id": "oi50uDJryAxJ",
        "colab_type": "code",
        "colab": {}
      },
      "cell_type": "code",
      "source": [
        "nQubits = 4 # number of physical qubits\n",
        "a = 7      # 0111"
      ],
      "execution_count": 0,
      "outputs": []
    },
    {
      "metadata": {
        "id": "ISf9mUSw4RAt",
        "colab_type": "code",
        "colab": {
          "base_uri": "https://localhost:8080/",
          "height": 34
        },
        "outputId": "77654fe9-1c64-4106-f049-013380633c99"
      },
      "cell_type": "code",
      "source": [
        "# Creating registers\n",
        "# qubits for querying the oracle and finding the hidden integer\n",
        "q = QuantumRegister(nQubits)\n",
        "\n",
        "# for recording the measurement on qr\n",
        "c = ClassicalRegister(nQubits)\n",
        "\n",
        "bv = QuantumCircuit(q, c)\n",
        "\n",
        "# Apply Hadamard gates before querying the oracle\n",
        "# for i in range(nQubits):\n",
        "#     bv.h(q[i])\n",
        "bv.h(q)\n",
        "    \n",
        "# Apply barrier so that it is not optimized by the compiler\n",
        "bv.barrier()\n",
        "\n",
        "# Apply the inner-product oracle\n",
        "for i in range(nQubits):\n",
        "    if (a & (1 << i)):\n",
        "        bv.z(q[i])\n",
        "    else:\n",
        "        bv.iden(q[i])\n",
        "        \n",
        "# Apply barrier \n",
        "bv.barrier()\n",
        "\n",
        "#Apply Hadamard gates after querying the oracle\n",
        "# for i in range(nQubits):\n",
        "#     bv.h(q[i])\n",
        "\n",
        "bv.h(q)\n",
        "    \n",
        "  \n",
        "# Measurement\n",
        "bv.barrier(q)\n",
        "bv.measure(q, c)"
      ],
      "execution_count": 25,
      "outputs": [
        {
          "output_type": "execute_result",
          "data": {
            "text/plain": [
              "<qiskit.circuit.instructionset.InstructionSet at 0x7f9f78e4f710>"
            ]
          },
          "metadata": {
            "tags": []
          },
          "execution_count": 25
        }
      ]
    },
    {
      "metadata": {
        "id": "NNmN261f4TNS",
        "colab_type": "code",
        "colab": {
          "base_uri": "https://localhost:8080/",
          "height": 408
        },
        "outputId": "cae63d64-4bbf-490a-f593-3684656775e0"
      },
      "cell_type": "code",
      "source": [
        "bv.draw(output='mpl')"
      ],
      "execution_count": 26,
      "outputs": [
        {
          "output_type": "execute_result",
          "data": {
            "image/png": "[encoded data removed]",
            "text/plain": [
              "<Figure size 782.6x499.66 with 1 Axes>"
            ]
          },
          "metadata": {
            "tags": []
          },
          "execution_count": 26
        }
      ]
    },
    {
      "metadata": {
        "id": "YLEq1zPx4XaX",
        "colab_type": "code",
        "colab": {
          "base_uri": "https://localhost:8080/",
          "height": 351
        },
        "outputId": "e4cb351f-ae55-4527-e52f-9e5eb74ccda5"
      },
      "cell_type": "code",
      "source": [
        "backend = BasicAer.get_backend('qasm_simulator')\n",
        "results = execute(bv, backend=backend, shots=1024).result()\n",
        "answer = results.get_counts()\n",
        "plot_histogram(answer)\n",
        " "
      ],
      "execution_count": 27,
      "outputs": [
        {
          "output_type": "execute_result",
          "data": {
            "image/png": "[encoded data removed]",
            "text/plain": [
              "<Figure size 504x360 with 1 Axes>"
            ]
          },
          "metadata": {
            "tags": []
          },
          "execution_count": 27
        }
      ]
    },
    {
      "metadata": {
        "id": "uMe0HC8sDEH7",
        "colab_type": "code",
        "colab": {}
      },
      "cell_type": "code",
      "source": [
        ""
      ],
      "execution_count": 0,
      "outputs": []
    }
  ]
}