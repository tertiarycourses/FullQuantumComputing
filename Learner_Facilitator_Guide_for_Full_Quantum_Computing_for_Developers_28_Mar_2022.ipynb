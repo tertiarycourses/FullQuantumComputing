{
  "nbformat": 4,
  "nbformat_minor": 0,
  "metadata": {
    "colab": {
      "name": "Learner/Facilitator Guide for Full Quantum Computing for Developers - 28 Mar 2022.ipynb",
      "provenance": [],
      "collapsed_sections": [
        "f02k5qtf0Flw",
        "v1bc3zN-xbNm",
        "Vl1idpWqbIfQ",
        "jS9Oi9dG2Ljz",
        "dCzCUkLP9t6Z",
        "o9vanaUf8jiF",
        "Gwacg0r4eP4i",
        "1fDcKxlVKqeD",
        "HGGVhGC4f4l_",
        "PbupxCTBDAaL"
      ]
    },
    "kernelspec": {
      "name": "python3",
      "display_name": "Python 3"
    },
    "accelerator": "GPU"
  },
  "cells": [
    {
      "cell_type": "markdown",
      "source": [
        "# Learner/Facilitator Guide for Full Quantum Computing for Developers"
      ],
      "metadata": {
        "id": "VR8vwZzUphSp"
      }
    },
    {
      "cell_type": "markdown",
      "source": [
        "## Topic 1: Introduction to Quantum Computing"
      ],
      "metadata": {
        "id": "DBNkpqmhpon6"
      }
    },
    {
      "metadata": {
        "id": "tPdgqGC00JXs"
      },
      "cell_type": "markdown",
      "source": [
        "### Install Qiskit"
      ]
    },
    {
      "metadata": {
        "id": "ipCnYRu8vni-"
      },
      "cell_type": "code",
      "source": [
        "!pip install qiskit[all]\n",
        "!pip install pylatexenc\n",
        "!pip install pyscf\n",
        "!pip install cirq\n",
        "!pip install qutip"
      ],
      "execution_count": null,
      "outputs": []
    },
    {
      "cell_type": "code",
      "source": [
        "from qutip import *\n",
        "%matplotlib inline\n",
        "import matplotlib.pyplot as plt\n",
        "import numpy as np\n",
        "from IPython.display import Image\n",
        "\n",
        "q = Qobj([[1], [1]])\n",
        "print(q)\n",
        "sz = Qobj([[1,0], [0,-1]]) # the sigma-z Pauli operator\n",
        "print(sz)\n",
        "q2 = sz*q\n",
        "print(q2)"
      ],
      "metadata": {
        "colab": {
          "base_uri": "https://localhost:8080/"
        },
        "id": "SFBQtGzxgpLh",
        "outputId": "f2f86f98-c209-4e81-f355-39f87a524821"
      },
      "execution_count": 12,
      "outputs": [
        {
          "output_type": "stream",
          "name": "stdout",
          "text": [
            "Quantum object: dims = [[2], [1]], shape = (2, 1), type = ket\n",
            "Qobj data =\n",
            "[[1.]\n",
            " [1.]]\n",
            "Quantum object: dims = [[2], [2]], shape = (2, 2), type = oper, isherm = True\n",
            "Qobj data =\n",
            "[[ 1.  0.]\n",
            " [ 0. -1.]]\n",
            "Quantum object: dims = [[2], [1]], shape = (2, 1), type = ket\n",
            "Qobj data =\n",
            "[[ 1.]\n",
            " [-1.]]\n"
          ]
        }
      ]
    },
    {
      "cell_type": "code",
      "source": [
        "from qiskit import QuantumCircuit, QuantumRegister, ClassicalRegister\n",
        "from qiskit import IBMQ, assemble, Aer, BasicAer, transpile, execute\n",
        "from qiskit.providers.ibmq import least_busy\n",
        "from qiskit.tools.monitor import job_monitor\n",
        "from qiskit.visualization import plot_histogram, plot_bloch_vector\n",
        "from qiskit.visualization import plot_bloch_multivector, plot_histogram, array_to_latex\n",
        "from qiskit.extensions import Initialize\n",
        "from qiskit.result import marginal_counts\n",
        "from qiskit.quantum_info import random_statevector\n",
        "from fractions import Fraction\n",
        "\n",
        "from math import sqrt, pi\n",
        "import numpy as np\n",
        "from numpy.random import randint\n",
        "import pandas as pd\n"
      ],
      "metadata": {
        "id": "-W69IX23jTIl"
      },
      "execution_count": null,
      "outputs": []
    },
    {
      "cell_type": "code",
      "source": [
        "import qiskit\n",
        "qiskit.__qiskit_version__"
      ],
      "metadata": {
        "id": "dQrPKNLnq3qv"
      },
      "execution_count": null,
      "outputs": []
    },
    {
      "metadata": {
        "id": "f02k5qtf0Flw"
      },
      "cell_type": "markdown",
      "source": [
        "###Connect to IBMQ API"
      ]
    },
    {
      "metadata": {
        "id": "9V9ylp20R-wz"
      },
      "cell_type": "code",
      "source": [
        "from qiskit import IBMQ\n",
        "IBMQ.save_account('d330b44b077d9ae56714c4ba96676236d87a63bf10cddb7e736e81658af8fab730e5a3aa92778da79f1fb93d29492a6f7f7fd9e074edb520e8b79b64dad61c0e')"
      ],
      "execution_count": null,
      "outputs": []
    },
    {
      "cell_type": "markdown",
      "source": [
        "## Topic 2 Single Qubit Quantum States and Gates\n"
      ],
      "metadata": {
        "id": "v1bc3zN-xbNm"
      }
    },
    {
      "cell_type": "markdown",
      "source": [
        "### Representing Qubit States and Statevector"
      ],
      "metadata": {
        "id": "Srz3XdWAtGHc"
      }
    },
    {
      "cell_type": "code",
      "source": [
        "qc = QuantumCircuit(1) # Create a quantum circuit with one qubit"
      ],
      "metadata": {
        "id": "4XG_WZ13xo4T"
      },
      "execution_count": null,
      "outputs": []
    },
    {
      "cell_type": "code",
      "source": [
        "initial_state = [0,1]   # Define initial_state as |1>\n",
        "qc.initialize(initial_state, 0) # Apply initialisation operation to the 0th qubit\n",
        "qc.draw('mpl')  # Let's view our circuit"
      ],
      "metadata": {
        "id": "I3HLtUR7xto_"
      },
      "execution_count": null,
      "outputs": []
    },
    {
      "cell_type": "code",
      "source": [
        "backend = Aer.get_backend('statevector_simulator') # Tell Qiskit how to simulate our circuit"
      ],
      "metadata": {
        "id": "YBnPyI1Vx6WB"
      },
      "execution_count": null,
      "outputs": []
    },
    {
      "cell_type": "code",
      "source": [
        "qc = QuantumCircuit(1) # Create a quantum circuit with one qubit\n",
        "initial_state = [0,1]   # Define initial_state as |1>\n",
        "qc.initialize(initial_state, 0) # Apply initialisation operation to the 0th qubit\n",
        "result = execute(qc,backend).result() # Do the simulation, returning the result\n",
        "out_state = result.get_statevector()\n",
        "print(out_state) # Display the output state vector"
      ],
      "metadata": {
        "id": "UF7tEAzLyDxZ"
      },
      "execution_count": null,
      "outputs": []
    },
    {
      "cell_type": "code",
      "source": [
        "result = execute(qc,backend).result()\n",
        "counts = result.get_counts()\n",
        "plot_histogram(counts)"
      ],
      "metadata": {
        "id": "u_lwdMcJydGx"
      },
      "execution_count": null,
      "outputs": []
    },
    {
      "cell_type": "code",
      "source": [
        "# Using Cirq intead of Qiskit\n",
        "import cirq\n",
        "\n",
        "# Pick a qubit.\n",
        "qubit = cirq.GridQubit(0, 0)\n",
        "\n",
        "# Create a circuit\n",
        "circuit = cirq.Circuit(\n",
        "    cirq.X(qubit)**0.5,  # Square root of NOT.\n",
        "    cirq.measure(qubit, key='m')  # Measurement.\n",
        ")\n",
        "print(\"Circuit:\")\n",
        "print(circuit)\n",
        "\n",
        "# Simulate the circuit several times.\n",
        "simulator = cirq.Simulator()\n",
        "result = simulator.run(circuit, repetitions=20)\n",
        "print(\"Results:\")\n",
        "print(result)\n",
        "\n",
        "result = simulator.simulate(circuit, qubit_order=[qubit])\n",
        "\n",
        "print(np.around(result.final_state_vector, 3))"
      ],
      "metadata": {
        "id": "gaoF1r2Xf9An"
      },
      "execution_count": null,
      "outputs": []
    },
    {
      "cell_type": "code",
      "source": [
        ""
      ],
      "metadata": {
        "id": "vpBG0MchgnQD"
      },
      "execution_count": null,
      "outputs": []
    },
    {
      "cell_type": "markdown",
      "source": [
        "### Activity: Statevector"
      ],
      "metadata": {
        "id": "iX7Ha-9CuLXY"
      }
    },
    {
      "cell_type": "code",
      "source": [
        "initial_state = [1/sqrt(2), 1j/sqrt(2)]  # Define state |q_0>"
      ],
      "metadata": {
        "id": "kbixeghsymQc"
      },
      "execution_count": null,
      "outputs": []
    },
    {
      "cell_type": "code",
      "source": [
        "qc = QuantumCircuit(1) # Must redefine qc\n",
        "qc.initialize(initial_state, 0) # Initialise the 0th qubit in the state `initial_state`\n",
        "state = execute(qc,backend).result().get_statevector() # Execute the circuit\n",
        "print(state)           # Print the result"
      ],
      "metadata": {
        "id": "u-Sd71hpyn8y"
      },
      "execution_count": null,
      "outputs": []
    },
    {
      "cell_type": "code",
      "source": [
        "results = execute(qc,backend).result().get_counts()\n",
        "plot_histogram(results)"
      ],
      "metadata": {
        "id": "PFfgGe7Gyp26"
      },
      "execution_count": null,
      "outputs": []
    },
    {
      "cell_type": "code",
      "source": [
        "qc = QuantumCircuit(1) # We are redefining qc\n",
        "initial_state = [0.+1.j/sqrt(2),1/sqrt(2)+0.j]\n",
        "qc.initialize(initial_state, 0)\n",
        "qc.draw()"
      ],
      "metadata": {
        "id": "j-F8hVJBy2c6"
      },
      "execution_count": null,
      "outputs": []
    },
    {
      "cell_type": "code",
      "source": [
        "qc.save_statevector()\n",
        "result = sim.run(assemble(qc)).result()\n",
        "state = result.get_statevector()\n",
        "print(\"Qubit State = \" + str(state))"
      ],
      "metadata": {
        "id": "u0nEomkky5A-"
      },
      "execution_count": null,
      "outputs": []
    },
    {
      "cell_type": "code",
      "source": [
        "qc = QuantumCircuit(1) # We are redefining qc\n",
        "initial_state = [0.+1.j/sqrt(2),1/sqrt(2)+0.j]\n",
        "qc.initialize(initial_state, 0)\n",
        "qc.measure_all()\n",
        "qc.save_statevector()\n",
        "qc.draw('mpl')"
      ],
      "metadata": {
        "id": "NNx1OwXzy9Sa"
      },
      "execution_count": null,
      "outputs": []
    },
    {
      "cell_type": "markdown",
      "source": [
        "### Measurement"
      ],
      "metadata": {
        "id": "8mp5Pp5PvB_Z"
      }
    },
    {
      "cell_type": "code",
      "source": [
        "qc = QuantumCircuit(1) # We are redefining qc\n",
        "initial_state = [0.+1.j/sqrt(2),1/sqrt(2)+0.j]\n",
        "qc.initialize(initial_state, 0)\n",
        "qc.draw('mpl')"
      ],
      "metadata": {
        "id": "uDHORX0TvS6_"
      },
      "execution_count": null,
      "outputs": []
    },
    {
      "cell_type": "code",
      "source": [
        "state = execute(qc, backend).result().get_statevector()\n",
        "print(\"Qubit State = \" + str(state))"
      ],
      "metadata": {
        "id": "7C2nvaaPvVvf"
      },
      "execution_count": null,
      "outputs": []
    },
    {
      "cell_type": "code",
      "source": [
        "qc.measure_all()\n",
        "qc.draw('mpl')"
      ],
      "metadata": {
        "id": "duXEQqxiybHb"
      },
      "execution_count": null,
      "outputs": []
    },
    {
      "cell_type": "code",
      "source": [
        "state = execute(qc, backend).result().get_statevector()\n",
        "print(\"State of Measured Qubit = \" + str(state))"
      ],
      "metadata": {
        "id": "nXmI_ZrlvbU-"
      },
      "execution_count": null,
      "outputs": []
    },
    {
      "cell_type": "markdown",
      "source": [
        "### Bloch Sphere"
      ],
      "metadata": {
        "id": "iVfz6yp-w2sl"
      }
    },
    {
      "cell_type": "code",
      "source": [
        "qc = QuantumCircuit(1) # We are redefining qc\n",
        "initial_state = [1,0]\n",
        "qc.initialize(initial_state, 0)\n",
        "qc.draw('mpl')"
      ],
      "metadata": {
        "id": "35IMkfcJxiJD"
      },
      "execution_count": null,
      "outputs": []
    },
    {
      "cell_type": "code",
      "source": [
        "# Let's see the result\n",
        "sim = Aer.get_backend('aer_simulator')\n",
        "qc.save_statevector()\n",
        "qobj = assemble(qc)\n",
        "state = sim.run(qobj).result().get_statevector()\n",
        "plot_bloch_multivector(state)"
      ],
      "metadata": {
        "id": "L34iEu77xlsY"
      },
      "execution_count": null,
      "outputs": []
    },
    {
      "cell_type": "markdown",
      "source": [
        "### Activity: Bloch Sphare\n"
      ],
      "metadata": {
        "id": "_JiKMr9rxnKL"
      }
    },
    {
      "cell_type": "code",
      "source": [
        "qc = QuantumCircuit(1) # We are redefining qc\n",
        "initial_state = [0.+1.j/sqrt(2),1/sqrt(2)+0.j]\n",
        "qc.initialize(initial_state, 0)\n",
        "qc.draw('mpl')"
      ],
      "metadata": {
        "id": "jJkvCiyxw4jE"
      },
      "execution_count": null,
      "outputs": []
    },
    {
      "cell_type": "code",
      "source": [
        "# Let's see the result\n",
        "sim = Aer.get_backend('aer_simulator')\n",
        "qc.save_statevector()\n",
        "qobj = assemble(qc)\n",
        "state = sim.run(qobj).result().get_statevector()\n",
        "plot_bloch_multivector(state)"
      ],
      "metadata": {
        "id": "rRRytXbFxCFS"
      },
      "execution_count": null,
      "outputs": []
    },
    {
      "cell_type": "markdown",
      "source": [
        "### Pauli X Gate"
      ],
      "metadata": {
        "id": "V_d2heAGzb3t"
      }
    },
    {
      "cell_type": "code",
      "source": [
        "# Let's do an X-gate on a |0> qubit\n",
        "qc = QuantumCircuit(1)"
      ],
      "metadata": {
        "id": "jZOa8Y4I0IOi"
      },
      "execution_count": null,
      "outputs": []
    },
    {
      "cell_type": "code",
      "source": [
        "# Let's see the result\n",
        "qc.save_statevector()\n",
        "qobj = assemble(qc)\n",
        "state = sim.run(qobj).result().get_statevector()\n",
        "plot_bloch_multivector(state)"
      ],
      "metadata": {
        "id": "sHGORIvg0KiM"
      },
      "execution_count": null,
      "outputs": []
    },
    {
      "cell_type": "code",
      "source": [
        "state = sim.run(qobj).result().get_statevector() # Execute the circuit\n",
        "np.round(state,2)   "
      ],
      "metadata": {
        "id": "ZKqQz7Y481kH"
      },
      "execution_count": null,
      "outputs": []
    },
    {
      "cell_type": "code",
      "source": [
        "# Let's do an X-gate on a |0> qubit\n",
        "qc = QuantumCircuit(1)\n",
        "qc.x(0)\n",
        "qc.draw('mpl')"
      ],
      "metadata": {
        "id": "W1gCxGdfzPbG"
      },
      "execution_count": null,
      "outputs": []
    },
    {
      "cell_type": "code",
      "source": [
        "# Let's see the result\n",
        "qc.save_statevector()\n",
        "qobj = assemble(qc)\n",
        "state = sim.run(qobj).result().get_statevector()\n",
        "plot_bloch_multivector(state)"
      ],
      "metadata": {
        "id": "N4Ur5iMXzRcA"
      },
      "execution_count": null,
      "outputs": []
    },
    {
      "cell_type": "code",
      "source": [
        "state = sim.run(qobj).result().get_statevector() # Execute the circuit\n",
        "np.round(state,2)   "
      ],
      "metadata": {
        "id": "CmHPlHEL80gr"
      },
      "execution_count": null,
      "outputs": []
    },
    {
      "cell_type": "markdown",
      "source": [
        "### Pauli Y Gate"
      ],
      "metadata": {
        "id": "i_ZHH21Wz1VJ"
      }
    },
    {
      "cell_type": "code",
      "source": [
        "qc = QuantumCircuit(1) # We are redefining qc\n",
        "initial_state = [1/sqrt(2),1/sqrt(2)]\n",
        "qc.initialize(initial_state, 0)\n",
        "qc.draw('mpl')"
      ],
      "metadata": {
        "id": "GZ5gH4F_010g"
      },
      "execution_count": null,
      "outputs": []
    },
    {
      "cell_type": "code",
      "source": [
        "# Let's see the result\n",
        "qc.save_statevector()\n",
        "qobj = assemble(qc)\n",
        "state = sim.run(qobj).result().get_statevector()\n",
        "plot_bloch_multivector(state)"
      ],
      "metadata": {
        "id": "QEzIw27C08Qw"
      },
      "execution_count": null,
      "outputs": []
    },
    {
      "cell_type": "code",
      "source": [
        "state = sim.run(qobj).result().get_statevector() # Execute the circuit\n",
        "np.round(state,2)   "
      ],
      "metadata": {
        "id": "0PmbLeL18yuF"
      },
      "execution_count": null,
      "outputs": []
    },
    {
      "cell_type": "code",
      "source": [
        "# Let's do an Y-gate on a |+> qubit\n",
        "qc = QuantumCircuit(1) # We are redefining qc\n",
        "#initial_state = [1/sqrt(2),1/sqrt(2)]\n",
        "initial_state = [1,0]\n",
        "qc.initialize(initial_state, 0)"
      ],
      "metadata": {
        "id": "qsKAdzPBzlku"
      },
      "execution_count": null,
      "outputs": []
    },
    {
      "cell_type": "code",
      "source": [
        "qc.y(0)\n",
        "qc.draw('mpl')"
      ],
      "metadata": {
        "id": "ZKWrRpsJ6GV3"
      },
      "execution_count": null,
      "outputs": []
    },
    {
      "cell_type": "code",
      "source": [
        "# Let's see the result\n",
        "sim = Aer.get_backend('aer_simulator')\n",
        "qc.save_statevector()\n",
        "qobj = assemble(qc)\n",
        "state = sim.run(qobj).result().get_statevector()\n",
        "plot_bloch_multivector(state)\n"
      ],
      "metadata": {
        "id": "zSioSybGzqR2"
      },
      "execution_count": null,
      "outputs": []
    },
    {
      "cell_type": "code",
      "source": [
        "state = sim.run(qobj).result().get_statevector() # Execute the circuit\n",
        "np.round(state,2)   "
      ],
      "metadata": {
        "id": "QL2gZ2nV8usR"
      },
      "execution_count": null,
      "outputs": []
    },
    {
      "cell_type": "markdown",
      "source": [
        "### Pauli Z Gate"
      ],
      "metadata": {
        "id": "xOTcQntsz414"
      }
    },
    {
      "cell_type": "code",
      "source": [
        "qc = QuantumCircuit(1) # We are redefining qc\n",
        "initial_state = [1/sqrt(2),1/sqrt(2)]\n",
        "#initial_state = [1,0]\n",
        "qc.initialize(initial_state, 0)\n",
        "qc.draw('mpl')"
      ],
      "metadata": {
        "id": "Bj73U7Xr1tjc"
      },
      "execution_count": null,
      "outputs": []
    },
    {
      "cell_type": "code",
      "source": [
        "qc.z(0)\n",
        "qc.draw('mpl')"
      ],
      "metadata": {
        "id": "7n7d8c7tz3w4"
      },
      "execution_count": null,
      "outputs": []
    },
    {
      "cell_type": "code",
      "source": [
        "# Let's see the result\n",
        "sim = Aer.get_backend('aer_simulator')\n",
        "qc.save_statevector()\n",
        "qobj = assemble(qc)\n",
        "state = sim.run(qobj).result().get_statevector()\n",
        "plot_bloch_multivector(state)\n",
        "  "
      ],
      "metadata": {
        "id": "4rcQbp2M0AfN"
      },
      "execution_count": null,
      "outputs": []
    },
    {
      "cell_type": "code",
      "source": [
        "state = sim.run(qobj).result().get_statevector() # Execute the circuit\n",
        "np.round(state,2) "
      ],
      "metadata": {
        "id": "s9UtrRC18tP0"
      },
      "execution_count": null,
      "outputs": []
    },
    {
      "cell_type": "markdown",
      "source": [
        "### Hadamard Gate"
      ],
      "metadata": {
        "id": "2z_BjQYp2wKg"
      }
    },
    {
      "cell_type": "code",
      "source": [
        "# Let's do an X-gate on a |0> qubit\n",
        "qc = QuantumCircuit(1)"
      ],
      "metadata": {
        "id": "sks357S_6xmE"
      },
      "execution_count": null,
      "outputs": []
    },
    {
      "cell_type": "code",
      "source": [
        "# Let's see the result\n",
        "sim = Aer.get_backend('aer_simulator')\n",
        "qc.save_statevector()\n",
        "qobj = assemble(qc)\n",
        "state = sim.run(qobj).result().get_statevector()\n",
        "plot_bloch_multivector(state)"
      ],
      "metadata": {
        "id": "mQnNF2yg65xR"
      },
      "execution_count": null,
      "outputs": []
    },
    {
      "cell_type": "code",
      "source": [
        "qc = QuantumCircuit(1)\n",
        "qc.h(0)\n",
        "qc.draw('mpl')"
      ],
      "metadata": {
        "id": "IFdK2nPC68GP"
      },
      "execution_count": null,
      "outputs": []
    },
    {
      "cell_type": "code",
      "source": [
        "# Let's see the result\n",
        "sim = Aer.get_backend('aer_simulator')\n",
        "qc.save_statevector()\n",
        "qobj = assemble(qc)\n",
        "state = sim.run(qobj).result().get_statevector()\n",
        "plot_bloch_multivector(state)"
      ],
      "metadata": {
        "id": "E9Hhx_0e6-Is"
      },
      "execution_count": null,
      "outputs": []
    },
    {
      "cell_type": "code",
      "source": [
        "state = sim.run(qobj).result().get_statevector() # Execute the circuit\n",
        "np.round(state,2)   "
      ],
      "metadata": {
        "id": "9NM2QR628qFg"
      },
      "execution_count": null,
      "outputs": []
    },
    {
      "cell_type": "markdown",
      "source": [
        "### Activity: X Measurement"
      ],
      "metadata": {
        "id": "sRfB6w28F_gs"
      }
    },
    {
      "cell_type": "code",
      "source": [
        "qc = QuantumCircuit(1,1)\n",
        "# qc.x(0)\n",
        "qc.h(0)\n",
        "qc.x(0)\n",
        "qc.barrier()\n",
        "qc.h(0)\n",
        "qc.measure(0,0)\n",
        "qc.draw('mpl')"
      ],
      "metadata": {
        "id": "8OVVd34BEG0y"
      },
      "execution_count": null,
      "outputs": []
    },
    {
      "cell_type": "code",
      "source": [
        "# Let's see the result\n",
        "sim = Aer.get_backend('aer_simulator')\n",
        "qc.save_statevector()\n",
        "qobj = assemble(qc)\n",
        "state = sim.run(qobj).result().get_statevector()\n",
        "plot_bloch_multivector(state)"
      ],
      "metadata": {
        "id": "CAbO7ZIqFkoX"
      },
      "execution_count": null,
      "outputs": []
    },
    {
      "cell_type": "markdown",
      "source": [
        "### Cirq"
      ],
      "metadata": {
        "id": "_xns0jRxGCi9"
      }
    },
    {
      "cell_type": "code",
      "source": [
        "# Using Cirq intead of Qiskit\n",
        "import cirq\n",
        "\n",
        "qubit = cirq.NamedQubit(\"myqubit\")\n",
        "\n",
        "# creates an equal superposition of |0> and |1> when simulated\n",
        "circuit = cirq.Circuit(cirq.H(qubit))\n",
        "\n",
        "# see the \"myqubit\" identifier at the left of the circuit\n",
        "print(circuit)\n",
        "\n",
        "# run simulation\n",
        "result = cirq.Simulator().simulate(circuit)\n",
        "\n",
        "print(\"result:\")\n",
        "print(result)"
      ],
      "metadata": {
        "id": "_fFqDevSeRVU"
      },
      "execution_count": null,
      "outputs": []
    },
    {
      "cell_type": "markdown",
      "source": [
        "### P Gate"
      ],
      "metadata": {
        "id": "IrFc5UVFixYb"
      }
    },
    {
      "cell_type": "code",
      "source": [
        "qc = QuantumCircuit(1)\n",
        "qc.rz(pi/4, 0)\n",
        "qc.draw('mpl')"
      ],
      "metadata": {
        "id": "D86jPhzbqeEe"
      },
      "execution_count": null,
      "outputs": []
    },
    {
      "cell_type": "code",
      "source": [
        "# Let's see the result\n",
        "sim = Aer.get_backend('aer_simulator')\n",
        "qc.save_statevector()\n",
        "qobj = assemble(qc)\n",
        "state = sim.run(qobj).result().get_statevector()\n",
        "plot_bloch_multivector(state)"
      ],
      "metadata": {
        "id": "tDhvAQKvqiLg"
      },
      "execution_count": null,
      "outputs": []
    },
    {
      "cell_type": "code",
      "source": [
        "state = sim.run(qobj).result().get_statevector() # Execute the circuit\n",
        "np.round(state,2) "
      ],
      "metadata": {
        "id": "LqgJyI_mqk-Z"
      },
      "execution_count": null,
      "outputs": []
    },
    {
      "cell_type": "code",
      "source": [
        "qc = QuantumCircuit(1)\n",
        "qc.p(pi/4, 0)\n",
        "qc.draw('mpl')"
      ],
      "metadata": {
        "id": "XIqLFv_mizTm"
      },
      "execution_count": null,
      "outputs": []
    },
    {
      "cell_type": "code",
      "source": [
        "# Let's see the result\n",
        "sim = Aer.get_backend('aer_simulator')\n",
        "qc.save_statevector()\n",
        "qobj = assemble(qc)\n",
        "state = sim.run(qobj).result().get_statevector()\n",
        "plot_bloch_multivector(state)"
      ],
      "metadata": {
        "id": "-itjQOQingba"
      },
      "execution_count": null,
      "outputs": []
    },
    {
      "cell_type": "code",
      "source": [
        "state = sim.run(qobj).result().get_statevector() # Execute the circuit\n",
        "np.round(state,2) "
      ],
      "metadata": {
        "id": "uiW4HvOsoJBi"
      },
      "execution_count": null,
      "outputs": []
    },
    {
      "cell_type": "markdown",
      "source": [
        "### S Gate"
      ],
      "metadata": {
        "id": "RaiduGtFlJav"
      }
    },
    {
      "cell_type": "code",
      "source": [
        "qc = QuantumCircuit(1)\n",
        "qc.s(0)   # Apply S-gate to qubit 0\n",
        "qc.sdg(0) # Apply Sdg-gate to qubit 0\n",
        "qc.draw('mpl')"
      ],
      "metadata": {
        "id": "knAxoXVIi41P"
      },
      "execution_count": null,
      "outputs": []
    },
    {
      "cell_type": "code",
      "source": [
        "# Let's see the result\n",
        "sim = Aer.get_backend('aer_simulator')\n",
        "qc.save_statevector()\n",
        "qobj = assemble(qc)\n",
        "state = sim.run(qobj).result().get_statevector()\n",
        "plot_bloch_multivector(state)"
      ],
      "metadata": {
        "id": "s3FUlgESnc9B"
      },
      "execution_count": null,
      "outputs": []
    },
    {
      "cell_type": "code",
      "source": [
        "state = sim.run(qobj).result().get_statevector() # Execute the circuit\n",
        "np.round(state,2) "
      ],
      "metadata": {
        "id": "vB3N_6E9oMHM"
      },
      "execution_count": null,
      "outputs": []
    },
    {
      "cell_type": "markdown",
      "source": [
        "### T Gate"
      ],
      "metadata": {
        "id": "NQo4lZ7ulhXA"
      }
    },
    {
      "cell_type": "code",
      "source": [
        "qc = QuantumCircuit(1)\n",
        "qc.t(0)   # Apply T-gate to qubit 0\n",
        "qc.tdg(0) # Apply Tdg-gate to qubit 0\n",
        "qc.draw('mpl')"
      ],
      "metadata": {
        "id": "D_Qh5AFUljX4"
      },
      "execution_count": null,
      "outputs": []
    },
    {
      "cell_type": "code",
      "source": [
        "# Let's see the result\n",
        "sim = Aer.get_backend('aer_simulator')\n",
        "qc.save_statevector()\n",
        "qobj = assemble(qc)\n",
        "state = sim.run(qobj).result().get_statevector()\n",
        "plot_bloch_multivector(state)"
      ],
      "metadata": {
        "id": "0JDl4_t8nZ3p"
      },
      "execution_count": null,
      "outputs": []
    },
    {
      "cell_type": "code",
      "source": [
        "state = sim.run(qobj).result().get_statevector() # Execute the circuit\n",
        "np.round(state,2) "
      ],
      "metadata": {
        "id": "5Ryhu7WqoNC4"
      },
      "execution_count": null,
      "outputs": []
    },
    {
      "cell_type": "markdown",
      "source": [
        "### U Gate"
      ],
      "metadata": {
        "id": "Pn_md6NZmI5K"
      }
    },
    {
      "cell_type": "code",
      "source": [
        "# Let's have U-gate transform a |0> to |+> state\n",
        "qc = QuantumCircuit(1)\n",
        "qc.u(pi/2, 0, pi, 0)\n",
        "qc.draw('mpl')"
      ],
      "metadata": {
        "id": "wsxAxVaymKsA"
      },
      "execution_count": null,
      "outputs": []
    },
    {
      "cell_type": "code",
      "source": [
        "# Let's see the result\n",
        "sim = Aer.get_backend('aer_simulator')\n",
        "qc.save_statevector()\n",
        "qobj = assemble(qc)\n",
        "state = sim.run(qobj).result().get_statevector()\n",
        "plot_bloch_multivector(state)"
      ],
      "metadata": {
        "id": "5MegwXG9m2ap"
      },
      "execution_count": null,
      "outputs": []
    },
    {
      "cell_type": "markdown",
      "source": [
        "### Unitary Matrices"
      ],
      "metadata": {
        "id": "6_qJVYV-UhkC"
      }
    },
    {
      "cell_type": "code",
      "source": [
        "import cirq\n",
        "\n",
        "print(\"X Unitary Matrix\")\n",
        "print(cirq.unitary(cirq.X))\n",
        "\n",
        "print(\"Y Unitary Matrix\")\n",
        "print(cirq.unitary(cirq.Y))\n",
        "\n",
        "print(\"Z Unitary Matrix\")\n",
        "print(cirq.unitary(cirq.Z))\n",
        "\n",
        "print(\"H Unitary Matrix\")\n",
        "print(cirq.unitary(cirq.H))\n",
        "\n",
        "print(\"S Unitary Matrix\")\n",
        "print(cirq.unitary(cirq.S))\n",
        "\n",
        "print(\"T Unitary Matrix\")\n",
        "print(cirq.unitary(cirq.T))\n",
        "\n",
        "print(\"CNOT Unitary Matrix\")\n",
        "print(cirq.unitary(cirq.CNOT))\n"
      ],
      "metadata": {
        "id": "LJy4411TT8CJ"
      },
      "execution_count": null,
      "outputs": []
    },
    {
      "cell_type": "markdown",
      "source": [
        "## Topic 3 Multiple Qubits and Entanglement\n"
      ],
      "metadata": {
        "id": "Vl1idpWqbIfQ"
      }
    },
    {
      "cell_type": "code",
      "source": [
        "qc = QuantumCircuit(3)\n",
        "# Apply H-gate to each qubit:\n",
        "for qubit in range(3):\n",
        "    qc.h(qubit)\n",
        "# See the circuit:\n",
        "qc.draw('mpl')"
      ],
      "metadata": {
        "id": "lK4UgAP_mHxN"
      },
      "execution_count": null,
      "outputs": []
    },
    {
      "cell_type": "code",
      "source": [
        "# Let's see the result\n",
        "svsim = Aer.get_backend('statevector_simulator')\n",
        "qobj = assemble(qc)\n",
        "final_state = svsim.run(qobj).result().get_statevector()\n",
        "plot_bloch_multivector(final_state)"
      ],
      "metadata": {
        "id": "iJ6NGJgPnKlP"
      },
      "execution_count": null,
      "outputs": []
    },
    {
      "cell_type": "code",
      "source": [
        "state = svsim.run(qobj).result().get_statevector() # Execute the circuit\n",
        "np.round(state,2) "
      ],
      "metadata": {
        "id": "9WfFJ3R-npBt"
      },
      "execution_count": null,
      "outputs": []
    },
    {
      "cell_type": "markdown",
      "source": [
        "### Unitary Simulation of Tensor Product"
      ],
      "metadata": {
        "id": "XBrxOmxHH9cI"
      }
    },
    {
      "cell_type": "code",
      "source": [
        "qc = QuantumCircuit(2)\n",
        "qc.h(0)\n",
        "qc.x(1)\n",
        "qc.draw('mpl')"
      ],
      "metadata": {
        "id": "43apYsJBo36J"
      },
      "execution_count": null,
      "outputs": []
    },
    {
      "cell_type": "code",
      "source": [
        "usim = Aer.get_backend('unitary_simulator')\n",
        "qobj = assemble(qc)\n",
        "unitary = usim.run(qobj).result().get_unitary()\n",
        "print(unitary)"
      ],
      "metadata": {
        "id": "AUhqig7do9E1"
      },
      "execution_count": null,
      "outputs": []
    },
    {
      "cell_type": "markdown",
      "source": [
        "### Activity: Superposition of Multiple Qubits"
      ],
      "metadata": {
        "id": "X94A48FzTFzg"
      }
    },
    {
      "cell_type": "code",
      "source": [
        "qc = QuantumCircuit(3)\n",
        "qc.h([0,1,2])\n",
        "qc.draw('mpl')"
      ],
      "metadata": {
        "id": "P48u3djZTJ_d"
      },
      "execution_count": null,
      "outputs": []
    },
    {
      "cell_type": "code",
      "source": [
        "# Let's get the result:\n",
        "qobj = assemble(qc)\n",
        "result = svsim.run(qobj).result()\n",
        "# Print the statevector neatly:\n",
        "final_state = result.get_statevector()\n",
        "plot_histogram(result.get_counts())"
      ],
      "metadata": {
        "id": "OGaomWNDTXWc"
      },
      "execution_count": null,
      "outputs": []
    },
    {
      "cell_type": "markdown",
      "source": [
        "### The CNOT-Gate"
      ],
      "metadata": {
        "id": "YLTeaBrCG-PC"
      }
    },
    {
      "cell_type": "code",
      "source": [
        "qc = QuantumCircuit(2)\n",
        "# Apply CNOT\n",
        "qc.cx(0,1)\n",
        "# See the circuit:\n",
        "qc.draw()"
      ],
      "metadata": {
        "id": "1o2ilHR4Iqff"
      },
      "execution_count": null,
      "outputs": []
    },
    {
      "cell_type": "code",
      "source": [
        "usim = Aer.get_backend('unitary_simulator')\n",
        "qobj = assemble(qc)\n",
        "unitary = usim.run(qobj).result().get_unitary()\n",
        "np.round(unitary,1)"
      ],
      "metadata": {
        "id": "j8DGkEkOGX9A"
      },
      "execution_count": null,
      "outputs": []
    },
    {
      "cell_type": "code",
      "source": [
        "# Let's get the result:\n",
        "qobj = assemble(qc)\n",
        "result = svsim.run(qobj).result()\n",
        "# Print the statevector neatly:\n",
        "final_state = result.get_statevector()\n",
        "plot_histogram(result.get_counts())"
      ],
      "metadata": {
        "id": "8mQGntR5RjBv"
      },
      "execution_count": null,
      "outputs": []
    },
    {
      "cell_type": "markdown",
      "source": [
        "### Entanglement"
      ],
      "metadata": {
        "id": "WO078R68KjTp"
      }
    },
    {
      "cell_type": "code",
      "source": [
        "qc = QuantumCircuit(2)\n",
        "# Apply H-gate to the first:\n",
        "qc.h(0)\n",
        "# Apply a CNOT:\n",
        "qc.cx(0,1)\n",
        "qc.draw('mpl')"
      ],
      "metadata": {
        "id": "1oI_4_jOKmfC"
      },
      "execution_count": null,
      "outputs": []
    },
    {
      "cell_type": "code",
      "source": [
        "# Let's get the result:\n",
        "qobj = assemble(qc)\n",
        "result = svsim.run(qobj).result()\n",
        "# Print the statevector neatly:\n",
        "final_state = result.get_statevector()\n",
        "plot_histogram(result.get_counts())"
      ],
      "metadata": {
        "id": "L7DVx0stLng5"
      },
      "execution_count": null,
      "outputs": []
    },
    {
      "cell_type": "code",
      "source": [
        "from qiskit.visualization import plot_state_qsphere\n",
        "plot_state_qsphere(final_state)"
      ],
      "metadata": {
        "id": "a7CtCCPFjMKu"
      },
      "execution_count": null,
      "outputs": []
    },
    {
      "cell_type": "code",
      "source": [
        "# Load our saved IBMQ accounts and get the least busy backend device with greater than or equal to (n+1) qubits\n",
        "IBMQ.load_account()\n",
        "provider = IBMQ.get_provider(hub='ibm-q')\n",
        "backend = least_busy(provider.backends(filters=lambda x: x.configuration().n_qubits >= (n+1) and\n",
        "                                   not x.configuration().simulator and x.status().operational==True))\n",
        "print(\"least busy backend: \", backend)\n"
      ],
      "metadata": {
        "id": "G4XR652AfMBO"
      },
      "execution_count": null,
      "outputs": []
    },
    {
      "cell_type": "code",
      "source": [
        "# Run our circuit on the least busy backend. Monitor the execution of the job in the queue\n",
        "from qiskit.tools.monitor import job_monitor\n",
        "\n",
        "transpiled_dj_circuit = transpile(qc, backend, optimization_level=3)\n",
        "job = backend.run(transpiled_dj_circuit)\n",
        "job_monitor(job, interval=2)"
      ],
      "metadata": {
        "id": "5GHFPH7sfTUb"
      },
      "execution_count": null,
      "outputs": []
    },
    {
      "cell_type": "code",
      "source": [
        "# Get the results of the computation\n",
        "results = job.result()\n",
        "answer = results.get_counts()\n",
        "\n",
        "plot_histogram(answer)"
      ],
      "metadata": {
        "id": "jPzWLAL3fWkD"
      },
      "execution_count": null,
      "outputs": []
    },
    {
      "metadata": {
        "id": "CbPbjvWn1Gqz"
      },
      "cell_type": "markdown",
      "source": [
        "### Activity: Create a Entangled 3 Qubits"
      ]
    },
    {
      "cell_type": "code",
      "source": [
        "qc = QuantumCircuit(3)\n",
        "# Apply H-gate to the first:\n",
        "qc.h(0)\n",
        "# Apply a CNOT:\n",
        "qc.cx(0,1)\n",
        "qc.cx(0,2)\n",
        "qc.draw('mpl')"
      ],
      "metadata": {
        "id": "N7z47owgZXhp"
      },
      "execution_count": null,
      "outputs": []
    },
    {
      "metadata": {
        "id": "TTczocg-w4AI"
      },
      "cell_type": "code",
      "source": [
        "# Let's get the result:\n",
        "qobj = assemble(qc)\n",
        "result = svsim.run(qobj).result()\n",
        "# Print the statevector neatly:\n",
        "final_state = result.get_statevector()\n",
        "plot_histogram(result.get_counts())"
      ],
      "execution_count": null,
      "outputs": []
    },
    {
      "cell_type": "code",
      "source": [
        "qc = QuantumCircuit(2)\n",
        "# Apply H-gate to the first:\n",
        "qc.x(1)\n",
        "qc.h(0)\n",
        "# Apply a CNOT:\n",
        "qc.cx(0,1)\n",
        "qc.draw('mpl')"
      ],
      "metadata": {
        "id": "7pPf-ZZ8mG8k"
      },
      "execution_count": null,
      "outputs": []
    },
    {
      "cell_type": "markdown",
      "source": [
        "### Activity: Bell State"
      ],
      "metadata": {
        "id": "lOTWEBH6nBRJ"
      }
    },
    {
      "cell_type": "code",
      "source": [
        "# Let's get the result:\n",
        "qobj = assemble(qc)\n",
        "result = svsim.run(qobj).result()\n",
        "# Print the statevector neatly:\n",
        "final_state = result.get_statevector()\n",
        "plot_histogram(result.get_counts())"
      ],
      "metadata": {
        "id": "DTU8hxdImORx"
      },
      "execution_count": null,
      "outputs": []
    },
    {
      "cell_type": "code",
      "source": [
        "from qiskit.visualization import plot_state_qsphere\n",
        "plot_state_qsphere(final_state)"
      ],
      "metadata": {
        "id": "9EEZuRlWm9Ra"
      },
      "execution_count": null,
      "outputs": []
    },
    {
      "cell_type": "code",
      "source": [
        "# Using cirq instead of qiskit\n",
        "\n",
        "import cirq\n",
        "\n",
        "q0, q1 = cirq.LineQubit.range(2)\n",
        "circuit = cirq.Circuit()\n",
        "circuit.append(cirq.H(q0))\n",
        "circuit.append(cirq.X(q1))\n",
        "circuit.append(cirq.CNOT(q0, q1))\n",
        "circuit.append(cirq.measure(q0,q1))\n",
        "print(circuit)\n"
      ],
      "metadata": {
        "id": "T7VsL6jvVzPS"
      },
      "execution_count": null,
      "outputs": []
    },
    {
      "cell_type": "markdown",
      "source": [
        "#### Controlled Z Gate"
      ],
      "metadata": {
        "id": "yJ32BXVXsz6X"
      }
    },
    {
      "cell_type": "code",
      "source": [
        "from qiskit import QuantumCircuit\n",
        "qc = QuantumCircuit(2)\n",
        "qc.cz(0,1)\n",
        "qc.draw('mpl')"
      ],
      "metadata": {
        "id": "qYZjznagxGV5"
      },
      "execution_count": null,
      "outputs": []
    },
    {
      "cell_type": "code",
      "source": [
        "qc = QuantumCircuit(2)\n",
        "qc.x([0,1])\n",
        "sv_sim = Aer.get_backend('statevector_simulator')\n",
        "result = sv_sim.run(qc).result()\n",
        "statevec = result.get_statevector()\n",
        "np.round(statevec,2)"
      ],
      "metadata": {
        "id": "NIuU-Ljzx8CK"
      },
      "execution_count": null,
      "outputs": []
    },
    {
      "cell_type": "code",
      "source": [
        "qc = QuantumCircuit(2)\n",
        "qc.x([0,1])\n",
        "qc.cz(0,1)\n",
        "qc.draw('mpl')"
      ],
      "metadata": {
        "id": "ucs-iGKLszA1"
      },
      "execution_count": null,
      "outputs": []
    },
    {
      "cell_type": "code",
      "source": [
        "sv_sim = Aer.get_backend('statevector_simulator')\n",
        "result = sv_sim.run(qc).result()\n",
        "statevec = result.get_statevector()\n",
        "np.round(statevec,2)"
      ],
      "metadata": {
        "id": "EJWC0s2QuEuW"
      },
      "execution_count": null,
      "outputs": []
    },
    {
      "cell_type": "code",
      "source": [
        "qasm_sim = Aer.get_backend('qasm_simulator')\n",
        "result = qasm_sim.run(qc,shots=1024).result()\n",
        "counts = result.get_counts()\n",
        "plot_histogram(counts)"
      ],
      "metadata": {
        "id": "qrASGgewwC11"
      },
      "execution_count": null,
      "outputs": []
    },
    {
      "cell_type": "markdown",
      "source": [
        "### Activity: Phase Kickback"
      ],
      "metadata": {
        "id": "EaK6FXka7Mj_"
      }
    },
    {
      "cell_type": "code",
      "source": [
        "qc = QuantumCircuit(2)\n",
        "qc.cx(1,0)\n",
        "qc.draw('mpl')"
      ],
      "metadata": {
        "id": "DQJC4J3y9OS3"
      },
      "execution_count": null,
      "outputs": []
    },
    {
      "cell_type": "code",
      "source": [
        "usim = Aer.get_backend('unitary_simulator')\n",
        "qobj = assemble(qc)\n",
        "unitary = usim.run(qobj).result().get_unitary()\n",
        "print(unitary)"
      ],
      "metadata": {
        "id": "Pb-F5u-H9bBu"
      },
      "execution_count": null,
      "outputs": []
    },
    {
      "cell_type": "code",
      "source": [
        "qc = QuantumCircuit(2)\n",
        "qc.h([0,1])\n",
        "qc.cx(0,1)\n",
        "qc.h([0,1])\n",
        "qc.draw('mpl')"
      ],
      "metadata": {
        "id": "Bz9zVE02usPj"
      },
      "execution_count": null,
      "outputs": []
    },
    {
      "cell_type": "code",
      "source": [
        "usim = Aer.get_backend('unitary_simulator')\n",
        "qobj = assemble(qc)\n",
        "unitary = usim.run(qobj).result().get_unitary()\n",
        "np.round(unitary,1)"
      ],
      "metadata": {
        "id": "yNGqWWWI9IIW"
      },
      "execution_count": null,
      "outputs": []
    },
    {
      "cell_type": "markdown",
      "source": [
        "### Activity: Toffoli Gate on Rigetti Quantum Computer"
      ],
      "metadata": {
        "id": "g7Xuta2ygcJe"
      }
    },
    {
      "cell_type": "code",
      "source": [
        "import cirq\n",
        "\n",
        "print(cirq.__version__)"
      ],
      "metadata": {
        "id": "t2BqXxiBebnp"
      },
      "execution_count": null,
      "outputs": []
    },
    {
      "cell_type": "code",
      "source": [
        "! [ -z \"$(which qvm)\" ] &&\\\n",
        "  apt update &&\\\n",
        "  apt install jq &&\\\n",
        "  export LATEST_FOREST_SDK_VERSION=$(curl -s https://downloads.rigetti.com/qcs-sdk/versions | jq -r '.versions[0].sdk') &&\\\n",
        "  curl -f https://downloads.rigetti.com/qcs-sdk/forest-sdk-$LATEST_FOREST_SDK_VERSION-linux-deb.tar.bz2 -o $PWD/forest-sdk-$LATEST_FOREST_SDK_VERSION-linux-deb.tar.bz2 &&\\\n",
        "  tar -xf forest-sdk-$LATEST_FOREST_SDK_VERSION-linux-deb.tar.bz2 &&\\\n",
        "  ./forest-sdk-$LATEST_FOREST_SDK_VERSION-linux-deb/forest-sdk-$LATEST_FOREST_SDK_VERSION-linux-deb.run &&\\\n",
        "  quilc --version &&\\\n",
        "  qvm --version"
      ],
      "metadata": {
        "id": "JrBFFvcUfFGX"
      },
      "execution_count": null,
      "outputs": []
    },
    {
      "cell_type": "code",
      "source": [
        "import subprocess\n",
        "\n",
        "subprocess.Popen([\"qvm\", \"--quiet\", \"-S\"])\n",
        "subprocess.Popen([\"quilc\", \"--quiet\", \"-R\"])"
      ],
      "metadata": {
        "id": "QMx2MJqPfTK3"
      },
      "execution_count": null,
      "outputs": []
    },
    {
      "cell_type": "code",
      "source": [
        "bell_circuit = cirq.Circuit()\n",
        "qubits = cirq.LineQubit.range(3)\n",
        "bell_circuit.append(cirq.H(qubits[0]))\n",
        "bell_circuit.append(cirq.H(qubits[1]))\n",
        "bell_circuit.append(cirq.CCNOT(qubits[0], qubits[1],qubits[2]))\n",
        "bell_circuit.append(cirq.measure(qubits[0], qubits[1], qubits[2],key='m'))\n",
        "print(bell_circuit)\n",
        "\n"
      ],
      "metadata": {
        "id": "yFLUPJMFfXAs"
      },
      "execution_count": null,
      "outputs": []
    },
    {
      "cell_type": "code",
      "source": [
        "from cirq_rigetti import RigettiQCSService\n",
        "import json\n",
        "\n",
        "quantum_processors = RigettiQCSService.list_quantum_processors().quantum_processors\n",
        "print(json.dumps([quantum_processor.id for quantum_processor in quantum_processors], sort_keys=True, indent=4))"
      ],
      "metadata": {
        "id": "vYpNqagmfaNH"
      },
      "execution_count": null,
      "outputs": []
    },
    {
      "cell_type": "code",
      "source": [
        "from cirq_rigetti import circuit_transformers, circuit_sweep_executors, get_rigetti_qcs_service\n",
        "\n",
        "service = get_rigetti_qcs_service(\"Aspen-11\", as_qvm=True, noisy=False)\n",
        "result = service.run(bell_circuit, repetitions=1000)\n",
        "\n",
        "print(result.histogram(key='m'))"
      ],
      "metadata": {
        "id": "kEuE3Wi6fdmU"
      },
      "execution_count": null,
      "outputs": []
    },
    {
      "cell_type": "code",
      "source": [
        "import matplotlib.pyplot as plt\n",
        "import numpy as np\n",
        "\n",
        "def plot_bell_state(result):\n",
        "    labels = list(result.keys())\n",
        "    labels.sort()\n",
        "\n",
        "    values = [result[label] for label in labels]\n",
        "\n",
        "    x = np.arange(len(labels))  # the label locations\n",
        "    width = 0.35  # the width of the bars\n",
        "\n",
        "    fig, ax = plt.subplots()\n",
        "    rects1 = ax.bar(x, values, width, label='Bell state')\n",
        "\n",
        "    # Add some text for labels, title and custom x-axis tick labels, etc.\n",
        "    ax.set_ylabel('Frequency')\n",
        "    ax.set_xticks(x)\n",
        "    ax.set_xticklabels(labels)\n",
        "    ax.set_xlabel('Value')\n",
        "\n",
        "    fig.tight_layout()\n",
        "\n",
        "    plt.show()\n",
        "\n",
        "plot_bell_state(result.histogram(key='m'))"
      ],
      "metadata": {
        "id": "dzvjO8bnf4_N"
      },
      "execution_count": null,
      "outputs": []
    },
    {
      "cell_type": "markdown",
      "source": [
        "## Topic 4 Quantum Algorithms\n"
      ],
      "metadata": {
        "id": "2r34nX0CU8Fk"
      }
    },
    {
      "cell_type": "markdown",
      "source": [
        "### Quantum Teleportation"
      ],
      "metadata": {
        "id": "jS9Oi9dG2Ljz"
      }
    },
    {
      "cell_type": "code",
      "source": [
        "def create_bell_pair(qc, a, b):\n",
        "    \"\"\"Creates a bell pair in qc using qubits a & b\"\"\"\n",
        "    qc.h(a) # Put qubit a into state |+>\n",
        "    qc.cx(a,b) # CNOT with a as control and b as target\n"
      ],
      "metadata": {
        "id": "BKLb7j2kxEIi"
      },
      "execution_count": null,
      "outputs": []
    },
    {
      "cell_type": "code",
      "source": [
        "def measure_and_send(qc, a, b):\n",
        "    \"\"\"Measures qubits a & b and 'sends' the results to Bob\"\"\"\n",
        "    qc.barrier()\n",
        "    qc.measure(a,0)\n",
        "    qc.measure(b,1)"
      ],
      "metadata": {
        "id": "nFWdbil7xN0m"
      },
      "execution_count": null,
      "outputs": []
    },
    {
      "cell_type": "code",
      "source": [
        "def bob_gates(qc, qubit, crz, crx):\n",
        "    # Here we use c_if to control our gates with a classical\n",
        "    # bit instead of a qubit\n",
        "    qc.x(qubit).c_if(crx, 1) # Apply gates if the registers \n",
        "    qc.z(qubit).c_if(crz, 1) # are in the state '1'"
      ],
      "metadata": {
        "id": "IBbwZmGyy04f"
      },
      "execution_count": null,
      "outputs": []
    },
    {
      "cell_type": "code",
      "source": [
        "# Create random 1-qubit state\n",
        "psi = random_statevector(2)\n",
        "\n",
        "# Display it nicely\n",
        "display(array_to_latex(psi, prefix=\"|\\\\psi\\\\rangle =\"))\n",
        "# Show it on a Bloch sphere\n",
        "plot_bloch_multivector(psi)"
      ],
      "metadata": {
        "id": "LYtp02j3zKBG"
      },
      "execution_count": null,
      "outputs": []
    },
    {
      "cell_type": "code",
      "source": [
        "init_gate = Initialize(psi)\n",
        "init_gate.label = \"init\"\n",
        "inverse_init_gate = init_gate.gates_to_uncompute()"
      ],
      "metadata": {
        "id": "tLb8yyQizU3p"
      },
      "execution_count": null,
      "outputs": []
    },
    {
      "cell_type": "code",
      "source": [
        "## SETUP\n",
        "qr = QuantumRegister(3, name=\"q\")   # Protocol uses 3 qubits\n",
        "crz = ClassicalRegister(1, name=\"crz\") # and 2 classical registers\n",
        "crx = ClassicalRegister(1, name=\"crx\")\n",
        "qc = QuantumCircuit(qr, crz, crx)\n",
        "\n",
        "## STEP 0\n",
        "# First, let's initialize Alice's q0\n",
        "qc.append(init_gate, [0])\n",
        "qc.barrier()\n",
        "\n",
        "## STEP 1\n",
        "# Now begins the teleportation protocol\n",
        "create_bell_pair(qc, 1, 2)\n",
        "qc.barrier()\n",
        "\n",
        "## STEP 2\n",
        "# Send q1 to Alice and q2 to Bob\n",
        "alice_gates(qc, 0, 1)\n",
        "\n",
        "## STEP 3\n",
        "# Alice then sends her classical bits to Bob\n",
        "measure_and_send(qc, 0, 1)\n",
        "\n",
        "## STEP 4\n",
        "# Bob decodes qubits\n",
        "bob_gates(qc, 2, crz, crx)\n",
        "\n",
        "# Display the circuit\n",
        "qc.draw('mpl')"
      ],
      "metadata": {
        "id": "KQUi_Ralx0SU"
      },
      "execution_count": null,
      "outputs": []
    },
    {
      "cell_type": "code",
      "source": [
        "sim = Aer.get_backend('aer_simulator')\n",
        "qc.save_statevector()\n",
        "out_vector = sim.run(qc).result().get_statevector()\n",
        "plot_bloch_multivector(out_vector)"
      ],
      "metadata": {
        "id": "u97bEKKe4bk3"
      },
      "execution_count": null,
      "outputs": []
    },
    {
      "cell_type": "markdown",
      "source": [
        "### Superdense Coding"
      ],
      "metadata": {
        "id": "dCzCUkLP9t6Z"
      }
    },
    {
      "cell_type": "code",
      "source": [
        "def create_bell_pair():\n",
        "    qc = QuantumCircuit(2)\n",
        "    qc.h(1)\n",
        "    qc.cx(1, 0)\n",
        "    return qc"
      ],
      "metadata": {
        "id": "WZIY557S9xHS"
      },
      "execution_count": null,
      "outputs": []
    },
    {
      "cell_type": "code",
      "source": [
        "def encode_message(qc, qubit, msg):\n",
        "    if len(msg) != 2 or not set([0,1]).issubset({0,1}):\n",
        "        raise ValueError(f\"message '{msg}' is invalid\")\n",
        "    if msg[1] == \"1\":\n",
        "        qc.x(qubit)\n",
        "    if msg[0] == \"1\":\n",
        "        qc.z(qubit)\n",
        "    return qc"
      ],
      "metadata": {
        "id": "kDWgfW8l923R"
      },
      "execution_count": null,
      "outputs": []
    },
    {
      "cell_type": "code",
      "source": [
        "def decode_message(qc):\n",
        "    qc.cx(1, 0)\n",
        "    qc.h(1)\n",
        "    return qc"
      ],
      "metadata": {
        "id": "PD48x65Z-Bfh"
      },
      "execution_count": null,
      "outputs": []
    },
    {
      "cell_type": "code",
      "source": [
        "# Charlie creates the entangled pair between Alice and Bob\n",
        "qc = create_bell_pair()\n",
        "\n",
        "# We'll add a barrier for visual separation\n",
        "qc.barrier()\n",
        "\n",
        "# At this point, qubit 0 goes to Alice and qubit 1 goes to Bob\n",
        "\n",
        "# Next, Alice encodes her message onto qubit 1. In this case,\n",
        "# we want to send the message '10'. You can try changing this\n",
        "# value and see how it affects the circuit\n",
        "message = '10'\n",
        "qc = encode_message(qc, 1, message)\n",
        "qc.barrier()\n",
        "# Alice then sends her qubit to Bob.\n",
        "\n",
        "# After receiving qubit 0, Bob applies the recovery protocol:\n",
        "qc = decode_message(qc)\n",
        "\n",
        "# Finally, Bob measures his qubits to read Alice's message\n",
        "qc.measure_all()\n",
        "\n",
        "# Draw our output\n",
        "qc.draw('mpl')"
      ],
      "metadata": {
        "id": "RoWLf5af-FZg"
      },
      "execution_count": null,
      "outputs": []
    },
    {
      "cell_type": "code",
      "source": [
        "aer_sim = Aer.get_backend('aer_simulator')\n",
        "result = aer_sim.run(qc).result()\n",
        "counts = result.get_counts(qc)\n",
        "print(counts)\n",
        "plot_histogram(counts)"
      ],
      "metadata": {
        "id": "Wa5H84sg-J6D"
      },
      "execution_count": null,
      "outputs": []
    },
    {
      "cell_type": "markdown",
      "source": [
        "### Deutsch-Jozsa Algorithm\n",
        "\n",
        "We now implement the Deutsch-Jozsa algorithm for the example of a three-bit function, with both constant and balanced oracles. First let's do our imports:"
      ],
      "metadata": {
        "id": "o9vanaUf8jiF"
      }
    },
    {
      "cell_type": "code",
      "source": [
        "# set the length of the n-bit input string. \n",
        "n = 3"
      ],
      "metadata": {
        "id": "MfnsRLf28k-R"
      },
      "execution_count": null,
      "outputs": []
    },
    {
      "cell_type": "markdown",
      "source": [
        "#### Constant Oracle"
      ],
      "metadata": {
        "id": "NTjQvweL-DSD"
      }
    },
    {
      "cell_type": "code",
      "source": [
        "# Constant Oracle\n",
        "\n",
        "const_oracle = QuantumCircuit(n+1)\n",
        "const_oracle.barrier()\n",
        "\n",
        "output = np.random.randint(2)\n",
        "#output = 1\n",
        "if output == 1:\n",
        "    const_oracle.x(n)\n",
        "\n",
        "const_oracle.barrier()\n",
        "\n",
        "const_oracle.draw()"
      ],
      "metadata": {
        "id": "hxBZGpYV8nPb"
      },
      "execution_count": null,
      "outputs": []
    },
    {
      "cell_type": "markdown",
      "source": [
        " #### Balanced Oracle"
      ],
      "metadata": {
        "id": "6Une_JdA-BXa"
      }
    },
    {
      "cell_type": "code",
      "source": [
        "balanced_oracle = QuantumCircuit(n+1)\n",
        "\n",
        "# Use barrier as divider\n",
        "balanced_oracle.barrier()\n",
        "\n",
        "# Controlled-NOT gates\n",
        "for qubit in range(n):\n",
        "    balanced_oracle.cx(qubit, n)\n",
        "\n",
        "balanced_oracle.barrier()\n",
        "balanced_oracle.draw()"
      ],
      "metadata": {
        "id": "x996qHSq9xKa"
      },
      "execution_count": null,
      "outputs": []
    },
    {
      "cell_type": "code",
      "source": [
        "dj_circuit = QuantumCircuit(n+1, n)\n",
        "\n",
        "# Apply H-gates\n",
        "for qubit in range(n):\n",
        "    dj_circuit.h(qubit)\n",
        "\n",
        "# Put qubit in state |->\n",
        "dj_circuit.x(n)\n",
        "dj_circuit.h(n)\n",
        "\n",
        "# Add oracle\n",
        "#dj_circuit = dj_circuit.compose(balanced_oracle)\n",
        "dj_circuit = dj_circuit.compose(const_oracle)\n",
        "\n",
        "# Repeat H-gates\n",
        "for qubit in range(n):\n",
        "    dj_circuit.h(qubit)\n",
        "dj_circuit.barrier()\n",
        "\n",
        "# Measure\n",
        "for i in range(n):\n",
        "    dj_circuit.measure(i, i)\n",
        "\n",
        "# Display circuit\n",
        "dj_circuit.draw()"
      ],
      "metadata": {
        "id": "RSCUVEVK9zMq"
      },
      "execution_count": null,
      "outputs": []
    },
    {
      "cell_type": "code",
      "source": [
        "# use local simulator\n",
        "aer_sim = Aer.get_backend('aer_simulator')\n",
        "results = aer_sim.run(dj_circuit, shots=1024).result()\n",
        "answer = results.get_counts()\n",
        "\n",
        "plot_histogram(answer)"
      ],
      "metadata": {
        "id": "ub_4cMrt_EeJ"
      },
      "execution_count": null,
      "outputs": []
    },
    {
      "cell_type": "markdown",
      "source": [
        "#### Run on Real Quantum Computer"
      ],
      "metadata": {
        "id": "Y7_HUuAhZiBx"
      }
    },
    {
      "cell_type": "code",
      "source": [
        "# Load our saved IBMQ accounts and get the least busy backend device with greater than or equal to (n+1) qubits\n",
        "IBMQ.load_account()\n",
        "provider = IBMQ.get_provider(hub='ibm-q')\n",
        "backend = least_busy(provider.backends(filters=lambda x: x.configuration().n_qubits >= (n+1) and\n",
        "                                   not x.configuration().simulator and x.status().operational==True))\n",
        "print(\"least busy backend: \", backend)\n"
      ],
      "metadata": {
        "id": "MQ-znKvpXiEf"
      },
      "execution_count": null,
      "outputs": []
    },
    {
      "cell_type": "code",
      "source": [
        "# Run our circuit on the least busy backend. Monitor the execution of the job in the queue\n",
        "from qiskit.tools.monitor import job_monitor\n",
        "\n",
        "transpiled_dj_circuit = transpile(qc, backend, optimization_level=3)\n",
        "job = backend.run(transpiled_dj_circuit)\n",
        "job_monitor(job, interval=2)"
      ],
      "metadata": {
        "id": "8r-De3KJPMru"
      },
      "execution_count": null,
      "outputs": []
    },
    {
      "cell_type": "code",
      "source": [
        "# Get the results of the computation\n",
        "results = job.result()\n",
        "answer = results.get_counts()\n",
        "\n",
        "plot_histogram(answer)"
      ],
      "metadata": {
        "id": "PUlBVmgpXem2"
      },
      "execution_count": null,
      "outputs": []
    },
    {
      "cell_type": "markdown",
      "source": [
        "### Bernstein-Vazirani Algorithm"
      ],
      "metadata": {
        "id": "Gwacg0r4eP4i"
      }
    },
    {
      "cell_type": "code",
      "source": [
        "# initialization\n",
        "import matplotlib.pyplot as plt\n",
        "import numpy as np\n",
        "\n",
        "# importing Qiskit\n",
        "from qiskit import IBMQ, Aer\n",
        "from qiskit.providers.ibmq import least_busy\n",
        "from qiskit import QuantumCircuit, ClassicalRegister, QuantumRegister, transpile\n",
        "\n",
        "# import basic plot tools\n",
        "from qiskit.visualization import plot_histogram"
      ],
      "metadata": {
        "id": "bwSaiagTXnIy"
      },
      "execution_count": null,
      "outputs": []
    },
    {
      "cell_type": "code",
      "source": [
        "n = 3 # number of qubits used to represent s\n",
        "s = '011'   # the hidden binary string"
      ],
      "metadata": {
        "id": "j8zrRG-ldSyL"
      },
      "execution_count": null,
      "outputs": []
    },
    {
      "cell_type": "code",
      "source": [
        "# We need a circuit with n qubits, plus one auxiliary qubit\n",
        "# Also need n classical bits to write the output to\n",
        "bv_circuit = QuantumCircuit(n+1, n)\n",
        "\n",
        "# put auxiliary in state |->\n",
        "bv_circuit.x(n)\n",
        "bv_circuit.h(n)\n",
        "\n",
        "\n",
        "# Apply Hadamard gates before querying the oracle\n",
        "for i in range(n):\n",
        "    bv_circuit.h(i)\n",
        "    \n",
        "# Apply barrier \n",
        "bv_circuit.barrier()\n",
        "\n",
        "# Apply the inner-product oracle\n",
        "s = s[::-1] # reverse s to fit qiskit's qubit ordering\n",
        "for q in range(n):\n",
        "    if s[q] == '0':\n",
        "        bv_circuit.i(q)\n",
        "    else:\n",
        "        bv_circuit.cx(q, n)\n",
        "        \n",
        "# Apply barrier \n",
        "bv_circuit.barrier()\n",
        "\n",
        "#Apply Hadamard gates after querying the oracle\n",
        "for i in range(n):\n",
        "    bv_circuit.h(i)\n",
        "\n",
        "# Measurement\n",
        "for i in range(n):\n",
        "    bv_circuit.measure(i, i)\n",
        "\n",
        "bv_circuit.draw()"
      ],
      "metadata": {
        "id": "mtHWyHrhdXjP"
      },
      "execution_count": null,
      "outputs": []
    },
    {
      "cell_type": "code",
      "source": [
        "# use local simulator\n",
        "aer_sim = Aer.get_backend('aer_simulator')\n",
        "results = aer_sim.run(bv_circuit, shots=1024).result()\n",
        "answer = results.get_counts()\n",
        "\n",
        "plot_histogram(answer)"
      ],
      "metadata": {
        "id": "i8setS8mdbiG"
      },
      "execution_count": null,
      "outputs": []
    },
    {
      "cell_type": "markdown",
      "source": [
        "#### Run on Real Quantum Computer"
      ],
      "metadata": {
        "id": "-6-1GB9SeGmA"
      }
    },
    {
      "cell_type": "code",
      "source": [
        "# Load our saved IBMQ accounts and get the least busy backend device with greater than or equal to (n+1) qubits\n",
        "IBMQ.load_account()\n",
        "provider = IBMQ.get_provider(hub='ibm-q')\n",
        "backend = least_busy(provider.backends(filters=lambda x: x.configuration().n_qubits >= (n+1) and\n",
        "                                   not x.configuration().simulator and x.status().operational==True))\n",
        "print(\"least busy backend: \", backend)"
      ],
      "metadata": {
        "id": "zb-W88I1d3UY"
      },
      "execution_count": null,
      "outputs": []
    },
    {
      "cell_type": "code",
      "source": [
        "# Run our circuit on the least busy backend. Monitor the execution of the job in the queue\n",
        "from qiskit.tools.monitor import job_monitor\n",
        "\n",
        "transpiled_bv_circuit = transpile(bv_circuit, backend, optimization_level=3)\n",
        "job = backend.run(transpiled_bv_circuit)\n",
        "job_monitor(job, interval=2)"
      ],
      "metadata": {
        "id": "Q6Y82h9Ed9h2"
      },
      "execution_count": null,
      "outputs": []
    },
    {
      "cell_type": "code",
      "source": [
        "# Get the results of the computation\n",
        "results = job.result()\n",
        "answer = results.get_counts()\n",
        "\n",
        "plot_histogram(answer)"
      ],
      "metadata": {
        "id": "xKTN00LveAZ4"
      },
      "execution_count": null,
      "outputs": []
    },
    {
      "cell_type": "markdown",
      "source": [
        "### Grover Algorithm"
      ],
      "metadata": {
        "id": "1fDcKxlVKqeD"
      }
    },
    {
      "cell_type": "markdown",
      "source": [
        "#### Non Quantum Method"
      ],
      "metadata": {
        "id": "HGGVhGC4f4l_"
      }
    },
    {
      "cell_type": "code",
      "source": [
        "my_list = [1,3,5,2,4,9,5,8,0,7,6]"
      ],
      "metadata": {
        "id": "bi3jr58Df96n"
      },
      "execution_count": null,
      "outputs": []
    },
    {
      "cell_type": "code",
      "source": [
        "def my_oracle(my_input):\n",
        "    winner = 7\n",
        "    if my_input is winner:\n",
        "        response = True\n",
        "    else:\n",
        "        response = False\n",
        "    return response"
      ],
      "metadata": {
        "id": "iszDnP_NgG31"
      },
      "execution_count": null,
      "outputs": []
    },
    {
      "cell_type": "code",
      "source": [
        "for index, trial_number in enumerate(my_list):\n",
        "    if my_oracle(trial_number) is True:\n",
        "        print(f'Winner found at index {index}')"
      ],
      "metadata": {
        "id": "NkSt-0tJghdT"
      },
      "execution_count": null,
      "outputs": []
    },
    {
      "cell_type": "markdown",
      "source": [
        "#### Grover Algorithm Simple Demo"
      ],
      "metadata": {
        "id": "9mwmztqDXNUp"
      }
    },
    {
      "cell_type": "code",
      "source": [
        "from qiskit import QuantumCircuit\n",
        "from qiskit.algorithms import AmplificationProblem\n",
        "\n",
        "# the state we desire to find is '11'\n",
        "good_state = ['11']\n",
        "\n",
        "# specify the oracle that marks the state '11' as a good solution\n",
        "oracle = QuantumCircuit(2)\n",
        "oracle.cz(0, 1)\n",
        "\n",
        "# define Grover's algorithm\n",
        "problem = AmplificationProblem(oracle, is_good_state=good_state)\n",
        "\n",
        "# now we can have a look at the Grover operator that is used in running the algorithm\n",
        "# (Algorithm circuits are wrapped in a gate to be appear in composition as a block\n",
        "# so we have to decompose() the op to see it expanded into its component gates.)\n",
        "problem.grover_operator.decompose().draw(output='mpl')"
      ],
      "metadata": {
        "id": "UQzNeunhKsyv"
      },
      "execution_count": null,
      "outputs": []
    },
    {
      "cell_type": "code",
      "source": [
        "from qiskit import Aer\n",
        "from qiskit.utils import QuantumInstance\n",
        "from qiskit.algorithms import Grover\n",
        "\n",
        "aer_simulator = Aer.get_backend('aer_simulator')\n",
        "grover = Grover(quantum_instance=aer_simulator)\n",
        "result = grover.amplify(problem)\n",
        "print('Result type:', type(result))\n",
        "print()\n",
        "print('Success!' if result.oracle_evaluation else 'Failure!')\n",
        "print('Top measurement:', result.top_measurement)"
      ],
      "metadata": {
        "id": "bpmpP9WuLGM1"
      },
      "execution_count": null,
      "outputs": []
    },
    {
      "cell_type": "markdown",
      "source": [
        "#### Grover Algorithm Method 1"
      ],
      "metadata": {
        "id": "Pc6Uy4ciWlCJ"
      }
    },
    {
      "cell_type": "code",
      "source": [
        "oracle = QuantumCircuit(2,name='oracle')\n",
        "oracle.cz(0,1)\n",
        "oracle.to_gate()\n",
        "oracle.draw('mpl')"
      ],
      "metadata": {
        "id": "pU6LagdAioET"
      },
      "execution_count": null,
      "outputs": []
    },
    {
      "cell_type": "code",
      "source": [
        "grover_circ = QuantumCircuit(2,2)\n",
        "grover_circ.h([0,1])\n",
        "grover_circ.append(oracle,[0,1])\n",
        "grover_circ.draw('mpl')"
      ],
      "metadata": {
        "id": "ZLIU44uLi9jp"
      },
      "execution_count": null,
      "outputs": []
    },
    {
      "cell_type": "code",
      "source": [
        "reflection = QuantumCircuit(2,name=\"reflection\")\n",
        "reflection.h([0,1])\n",
        "reflection.z([0,1])\n",
        "reflection.cz(0,1)\n",
        "reflection.h([0,1])\n",
        "reflection.to_gate()\n",
        "reflection.draw('mpl')"
      ],
      "metadata": {
        "id": "uffPNSkwkZ_H"
      },
      "execution_count": null,
      "outputs": []
    },
    {
      "cell_type": "code",
      "source": [
        "grover_circ = QuantumCircuit(2,2)\n",
        "grover_circ.h([0,1])\n",
        "grover_circ.append(oracle,[0,1])\n",
        "grover_circ.append(reflection,[0,1])\n",
        "grover_circ.measure([0,1],[0,1])\n",
        "grover_circ.draw('mpl')"
      ],
      "metadata": {
        "id": "1_Z7hWHdlBqh"
      },
      "execution_count": null,
      "outputs": []
    },
    {
      "cell_type": "code",
      "source": [
        "backend = Aer.get_backend('qasm_simulator')\n",
        "job = execute(grover_circ,backend,shots=1)\n",
        "result = job.result()\n",
        "result.get_counts()\n"
      ],
      "metadata": {
        "id": "mg7fKYWJlc8Y"
      },
      "execution_count": null,
      "outputs": []
    },
    {
      "cell_type": "markdown",
      "source": [
        "#### Grover Algorithm Method 2"
      ],
      "metadata": {
        "id": "7ux1dfycWcSv"
      }
    },
    {
      "cell_type": "markdown",
      "source": [
        "We now implement Grover's algorithm for the above case of 2 qubits for \n",
        "|w> = |11>"
      ],
      "metadata": {
        "id": "iBWZSHcrfAmE"
      }
    },
    {
      "cell_type": "code",
      "source": [
        "n = 2\n",
        "grover_circuit = QuantumCircuit(n)"
      ],
      "metadata": {
        "id": "Y-8L9GJ4bBDg"
      },
      "execution_count": null,
      "outputs": []
    },
    {
      "cell_type": "code",
      "source": [
        "def initialize_s(qc, qubits):\n",
        "    \"\"\"Apply a H-gate to 'qubits' in qc\"\"\"\n",
        "    for q in qubits:\n",
        "        qc.h(q)\n",
        "    return qc"
      ],
      "metadata": {
        "id": "lrfjjyxkcBKO"
      },
      "execution_count": null,
      "outputs": []
    },
    {
      "cell_type": "markdown",
      "source": [
        "Apply the Oracle for |w> = |11>.This oracle is specific to 2 qubits:"
      ],
      "metadata": {
        "id": "yLxftwuRfTML"
      }
    },
    {
      "cell_type": "code",
      "source": [
        "grover_circuit = initialize_s(grover_circuit, [0,1])\n",
        "grover_circuit.draw('mpl')"
      ],
      "metadata": {
        "id": "izjkHpXRcEQG"
      },
      "execution_count": null,
      "outputs": []
    },
    {
      "cell_type": "code",
      "source": [
        "grover_circuit.cz(0,1) # Oracle\n",
        "grover_circuit.draw('mpl')"
      ],
      "metadata": {
        "id": "OkEgztP3cIvm"
      },
      "execution_count": null,
      "outputs": []
    },
    {
      "cell_type": "markdown",
      "source": [
        "We now want to apply the diffuser (\n",
        "). As with the circuit that initialises , we'll create a general diffuser (for any number of qubits) so we can use it later in other problems."
      ],
      "metadata": {
        "id": "JZ__68bKfdiM"
      }
    },
    {
      "cell_type": "code",
      "source": [
        "# Diffusion (Reflection) operator (U_s)\n",
        "grover_circuit.h([0,1])\n",
        "grover_circuit.z([0,1])\n",
        "grover_circuit.cz(0,1)\n",
        "grover_circuit.h([0,1])\n",
        "grover_circuit.measure_all()\n",
        "grover_circuit.draw('mpl')\n"
      ],
      "metadata": {
        "id": "tLGTKdGJeNk2"
      },
      "execution_count": null,
      "outputs": []
    },
    {
      "cell_type": "markdown",
      "source": [
        "#### Experiment with Simulators"
      ],
      "metadata": {
        "id": "-rSHnBgbe3Kb"
      }
    },
    {
      "cell_type": "code",
      "source": [
        "sv_sim = Aer.get_backend('statevector_simulator')\n",
        "result = sv_sim.run(grover_circuit).result()\n",
        "statevec = result.get_statevector()\n",
        "np.round(statevec,2)"
      ],
      "metadata": {
        "id": "m9ISuyB3eQFA"
      },
      "execution_count": null,
      "outputs": []
    },
    {
      "cell_type": "code",
      "source": [
        "qasm_sim = Aer.get_backend('qasm_simulator')\n",
        "result = qasm_sim.run(grover_circuit).result()\n",
        "counts = result.get_counts()\n",
        "plot_histogram(counts)"
      ],
      "metadata": {
        "id": "FWoICQWAeWOx"
      },
      "execution_count": null,
      "outputs": []
    },
    {
      "cell_type": "markdown",
      "source": [
        "#### Experiment with Real Devices"
      ],
      "metadata": {
        "id": "L21z2jLIeyPR"
      }
    },
    {
      "cell_type": "code",
      "source": [
        "# Load our saved IBMQ accounts and get the least busy backend device with greater than or equal to (n+1) qubits\n",
        "IBMQ.load_account()\n",
        "provider = IBMQ.get_provider(hub='ibm-q')\n",
        "backend = least_busy(provider.backends(filters=lambda x: x.configuration().n_qubits >= (n+1) and\n",
        "                                   not x.configuration().simulator and x.status().operational==True))\n",
        "print(\"least busy backend: \", backend)\n"
      ],
      "metadata": {
        "id": "S6jgJagMeZxm"
      },
      "execution_count": null,
      "outputs": []
    },
    {
      "cell_type": "code",
      "source": [
        "# Run our circuit on the least busy backend. Monitor the execution of the job in the queue\n",
        "from qiskit.tools.monitor import job_monitor\n",
        "\n",
        "transpiled_dj_circuit = transpile(qc, backend, optimization_level=3)\n",
        "job = backend.run(transpiled_dj_circuit)\n",
        "job_monitor(job, interval=2)"
      ],
      "metadata": {
        "id": "M43N3JYWeoRP"
      },
      "execution_count": null,
      "outputs": []
    },
    {
      "cell_type": "code",
      "source": [
        "# Get the results from the computation\n",
        "results = job.result()\n",
        "answer = results.get_counts(grover_circuit)\n",
        "plot_histogram(answer)"
      ],
      "metadata": {
        "id": "IyvHmzsseqg_"
      },
      "execution_count": null,
      "outputs": []
    },
    {
      "cell_type": "markdown",
      "source": [
        "### Quantum Fourier Transform"
      ],
      "metadata": {
        "id": "PbupxCTBDAaL"
      }
    },
    {
      "cell_type": "markdown",
      "source": [
        "#### 3-qubits QFT Implementation"
      ],
      "metadata": {
        "id": "QDOUkZUyAqxt"
      }
    },
    {
      "cell_type": "code",
      "source": [
        "qc = QuantumCircuit(3)\n",
        "qc.h(2)\n",
        "\n",
        "qc.cp(pi/4, 0, 2) # CROT from qubit 2 to qubit 0\n",
        "qc.cp(pi/2, 1, 2) # CROT from qubit 1 to qubit 2\n",
        "\n",
        "\n",
        "qc.h(1)\n",
        "qc.cp(pi/2, 0, 1) # CROT from qubit 0 to qubit 1\n",
        "qc.h(0)\n",
        "\n",
        "qc.swap(0,2)\n",
        "\n",
        "qc.draw('mpl')"
      ],
      "metadata": {
        "id": "5O2L6aW87gn6"
      },
      "execution_count": null,
      "outputs": []
    },
    {
      "cell_type": "markdown",
      "source": [
        "#### General QFT Implementation"
      ],
      "metadata": {
        "id": "c6w9Ciu0Axk4"
      }
    },
    {
      "cell_type": "code",
      "source": [
        "def qft_rotations(circuit, n):\n",
        "    if n == 0:\n",
        "        return circuit\n",
        "    n -= 1\n",
        "    circuit.h(n)\n",
        "    for qubit in range(n):\n",
        "        circuit.cp(pi/2**(n-qubit), qubit, n)\n",
        "\n",
        "    qft_rotations(circuit, n)\n",
        "\n",
        "def swap_registers(circuit, n):\n",
        "    for qubit in range(n//2):\n",
        "        circuit.swap(qubit, n-qubit-1)\n",
        "    return circuit\n",
        "\n",
        "def qft(circuit, n):\n",
        "    qft_rotations(circuit, n)\n",
        "    swap_registers(circuit, n)\n",
        "    return circuit"
      ],
      "metadata": {
        "id": "4Aba47lQ6sOq"
      },
      "execution_count": null,
      "outputs": []
    },
    {
      "cell_type": "code",
      "source": [
        "# Let's see how it looks:\n",
        "qc = QuantumCircuit(4)\n",
        "qft(qc,4)\n",
        "qc.draw('mpl')"
      ],
      "metadata": {
        "id": "eYkxchYfDVFV"
      },
      "execution_count": null,
      "outputs": []
    },
    {
      "cell_type": "markdown",
      "source": [
        "#### QFT Demo"
      ],
      "metadata": {
        "id": "GcipZ61pA07d"
      }
    },
    {
      "cell_type": "code",
      "source": [
        "# Create the circuit\n",
        "qc = QuantumCircuit(3)\n",
        "\n",
        "# Encode the state 5\n",
        "qc.x(0)\n",
        "qc.x(2)\n",
        "qc.draw('mpl')"
      ],
      "metadata": {
        "id": "HylAMH74AMa-"
      },
      "execution_count": null,
      "outputs": []
    },
    {
      "cell_type": "code",
      "source": [
        "sim = Aer.get_backend(\"aer_simulator\")\n",
        "qc_init = qc.copy()\n",
        "qc_init.save_statevector()\n",
        "statevector = sim.run(qc_init).result().get_statevector()\n",
        "plot_bloch_multivector(statevector)"
      ],
      "metadata": {
        "id": "CCVEKAG48jIC"
      },
      "execution_count": null,
      "outputs": []
    },
    {
      "cell_type": "code",
      "source": [
        "qft(qc,3)\n",
        "qc.draw('mpl')"
      ],
      "metadata": {
        "id": "UlvatwgU5pQ8"
      },
      "execution_count": null,
      "outputs": []
    },
    {
      "cell_type": "code",
      "source": [
        "qc.save_statevector()\n",
        "statevector = sim.run(qc).result().get_statevector()\n",
        "plot_bloch_multivector(statevector)"
      ],
      "metadata": {
        "id": "mTtY7rxy6Rw4"
      },
      "execution_count": null,
      "outputs": []
    },
    {
      "cell_type": "markdown",
      "source": [
        "### Shor Algorithm"
      ],
      "metadata": {
        "id": "v00fGrkQNZkK"
      }
    },
    {
      "cell_type": "code",
      "source": [
        "from qiskit.utils import QuantumInstance\n",
        "from qiskit.algorithms import Shor\n",
        "\n",
        "N = 15\n",
        "backend = Aer.get_backend('aer_simulator')\n",
        "quantum_instance = QuantumInstance(backend, shots=1024)\n",
        "shor = Shor(quantum_instance=quantum_instance)\n",
        "result = shor.factor(N)\n",
        "print(f\"The list of factors of {N} as computed by the Shor's algorithm is {result.factors[0]}.\")"
      ],
      "metadata": {
        "id": "0RVZbkaCAWOF"
      },
      "execution_count": null,
      "outputs": []
    },
    {
      "cell_type": "code",
      "source": [
        "def c_amod15(a, power):\n",
        "    \"\"\"Controlled multiplication by a mod 15\"\"\"\n",
        "    if a not in [2,4,7,8,11,13]:\n",
        "        raise ValueError(\"'a' must be 2,4,7,8,11 or 13\")\n",
        "    U = QuantumCircuit(4)        \n",
        "    for iteration in range(power):\n",
        "        if a in [2,13]:\n",
        "            U.swap(0,1)\n",
        "            U.swap(1,2)\n",
        "            U.swap(2,3)\n",
        "        if a in [7,8]:\n",
        "            U.swap(2,3)\n",
        "            U.swap(1,2)\n",
        "            U.swap(0,1)\n",
        "        if a in [4, 11]:\n",
        "            U.swap(1,3)\n",
        "            U.swap(0,2)\n",
        "        if a in [7,11,13]:\n",
        "            for q in range(4):\n",
        "                U.x(q)\n",
        "    U = U.to_gate()\n",
        "    U.name = \"%i^%i mod 15\" % (a, power)\n",
        "    c_U = U.control()\n",
        "    return c_U"
      ],
      "metadata": {
        "id": "ti8L4ikN4y0b"
      },
      "execution_count": null,
      "outputs": []
    },
    {
      "cell_type": "code",
      "source": [
        "# Specify variables\n",
        "n_count = 5  # number of counting qubits\n",
        "a = 4"
      ],
      "metadata": {
        "id": "iCeAxygZEfC7"
      },
      "execution_count": null,
      "outputs": []
    },
    {
      "cell_type": "code",
      "source": [
        "def qft_dagger(n):\n",
        "    \"\"\"n-qubit QFTdagger the first n qubits in circ\"\"\"\n",
        "    qc = QuantumCircuit(n)\n",
        "    # Don't forget the Swaps!\n",
        "    for qubit in range(n//2):\n",
        "        qc.swap(qubit, n-qubit-1)\n",
        "    for j in range(n):\n",
        "        for m in range(j):\n",
        "            qc.cp(-np.pi/float(2**(j-m)), m, j)\n",
        "        qc.h(j)\n",
        "    qc.name = \"QFT†\"\n",
        "    return qc"
      ],
      "metadata": {
        "id": "XLe3Pd4XEibV"
      },
      "execution_count": null,
      "outputs": []
    },
    {
      "cell_type": "code",
      "source": [
        "# Create QuantumCircuit with n_count counting qubits\n",
        "# plus 4 qubits for U to act on\n",
        "qc = QuantumCircuit(n_count + 4, n_count)\n",
        "\n",
        "# Initialize counting qubits\n",
        "# in state |+>\n",
        "for q in range(n_count):\n",
        "    qc.h(q)\n",
        "    \n",
        "# And auxiliary register in state |1>\n",
        "qc.x(3+n_count)\n",
        "\n",
        "# Do controlled-U operations\n",
        "for q in range(n_count):\n",
        "    qc.append(c_amod15(a, 2**q), \n",
        "             [q] + [i+n_count for i in range(4)])\n",
        "\n",
        "# Do inverse-QFT\n",
        "qc.append(qft_dagger(n_count), range(n_count))\n",
        "\n",
        "# Measure circuit\n",
        "qc.measure(range(n_count), range(n_count))\n",
        "qc.draw('mpl',fold=-1)  # -1 means 'do not fold' "
      ],
      "metadata": {
        "id": "GFBNPebaEnO2"
      },
      "execution_count": null,
      "outputs": []
    },
    {
      "cell_type": "code",
      "source": [
        "aer_sim = Aer.get_backend('aer_simulator')\n",
        "t_qc = transpile(qc, aer_sim)\n",
        "qobj = assemble(t_qc)\n",
        "results = aer_sim.run(qobj).result()\n",
        "counts = results.get_counts()\n",
        "plot_histogram(counts)"
      ],
      "metadata": {
        "id": "l27bXfV-EuTp"
      },
      "execution_count": null,
      "outputs": []
    },
    {
      "cell_type": "code",
      "source": [
        "rows = []\n",
        "for phase in measured_phases:\n",
        "    frac = Fraction(phase).limit_denominator(15)\n",
        "    rows.append([phase, f\"{frac.numerator}/{frac.denominator}\", frac.denominator])\n",
        "# Print as a table\n",
        "headers=[\"Phase\", \"Fraction\", \"Guess for r\"]\n",
        "df = pd.DataFrame(rows, columns=headers)\n",
        "print(df)"
      ],
      "metadata": {
        "id": "C71M8WwEE4hb"
      },
      "execution_count": null,
      "outputs": []
    },
    {
      "cell_type": "code",
      "source": [
        "factor_found = False\n",
        "attempt = 0\n",
        "while not factor_found:\n",
        "    attempt += 1\n",
        "    print(\"\\nAttempt %i:\" % attempt)\n",
        "    phase = qpe_amod15(a) # Phase = s/r\n",
        "    frac = Fraction(phase).limit_denominator(N) # Denominator should (hopefully!) tell us r\n",
        "    r = frac.denominator\n",
        "    print(\"Result: r = %i\" % r)\n",
        "    if phase != 0:\n",
        "        # Guesses for factors are gcd(x^{r/2} ±1 , 15)\n",
        "        guesses = [gcd(a**(r//2)-1, N), gcd(a**(r//2)+1, N)]\n",
        "        print(\"Guessed Factors: %i and %i\" % (guesses[0], guesses[1]))\n",
        "        for guess in guesses:\n",
        "            if guess not in [1,N] and (N % guess) == 0: # Check to see if guess is a factor\n",
        "                print(\"*** Non-trivial factor found: %i ***\" % guess)\n",
        "                factor_found = True"
      ],
      "metadata": {
        "id": "RJ5wZsqkFJuZ"
      },
      "execution_count": null,
      "outputs": []
    },
    {
      "cell_type": "markdown",
      "source": [
        "### Quantum Key Distribution (QKD)"
      ],
      "metadata": {
        "id": "tMmdHu2WBEX6"
      }
    },
    {
      "cell_type": "code",
      "source": [
        "def encode_message(bits, bases):\n",
        "    message = []\n",
        "    for i in range(n):\n",
        "        qc = QuantumCircuit(1,1)\n",
        "        if bases[i] == 0: # Prepare qubit in Z-basis\n",
        "            if bits[i] == 0:\n",
        "                pass \n",
        "            else:\n",
        "                qc.x(0)\n",
        "        else: # Prepare qubit in X-basis\n",
        "            if bits[i] == 0:\n",
        "                qc.h(0)\n",
        "            else:\n",
        "                qc.x(0)\n",
        "                qc.h(0)\n",
        "        qc.barrier()\n",
        "        message.append(qc)\n",
        "    return message"
      ],
      "metadata": {
        "id": "c-sM0YTYFaOs"
      },
      "execution_count": null,
      "outputs": []
    },
    {
      "cell_type": "code",
      "source": [
        "def measure_message(message, bases):\n",
        "    backend = Aer.get_backend('aer_simulator')\n",
        "    measurements = []\n",
        "    for q in range(n):\n",
        "        if bases[q] == 0: # measuring in Z-basis\n",
        "            message[q].measure(0,0)\n",
        "        if bases[q] == 1: # measuring in X-basis\n",
        "            message[q].h(0)\n",
        "            message[q].measure(0,0)\n",
        "        aer_sim = Aer.get_backend('aer_simulator')\n",
        "        result = aer_sim.run(message[q], shots=1, memory=True).result()\n",
        "        measured_bit = int(result.get_memory()[0])\n",
        "        measurements.append(measured_bit)\n",
        "    return measurements"
      ],
      "metadata": {
        "id": "1AA8b71kCHzz"
      },
      "execution_count": null,
      "outputs": []
    },
    {
      "cell_type": "code",
      "source": [
        "def remove_garbage(a_bases, b_bases, bits):\n",
        "    good_bits = []\n",
        "    for q in range(n):\n",
        "        if a_bases[q] == b_bases[q]:\n",
        "            # If both used the same basis, add\n",
        "            # this to the list of 'good' bits\n",
        "            good_bits.append(bits[q])\n",
        "    return good_bits"
      ],
      "metadata": {
        "id": "6UNLdMDyCmNF"
      },
      "execution_count": null,
      "outputs": []
    },
    {
      "cell_type": "code",
      "source": [
        "def sample_bits(bits, selection):\n",
        "    sample = []\n",
        "    for i in selection:\n",
        "        # use np.mod to make sure the\n",
        "        # bit we sample is always in \n",
        "        # the list range\n",
        "        i = np.mod(i, len(bits))\n",
        "        # pop(i) removes the element of the\n",
        "        # list at index 'i'\n",
        "        sample.append(bits.pop(i))\n",
        "    return sample"
      ],
      "metadata": {
        "id": "E8aG0p8IDbzH"
      },
      "execution_count": null,
      "outputs": []
    },
    {
      "cell_type": "code",
      "source": [
        "np.random.seed(seed=0)\n",
        "n = 100\n",
        "\n",
        "## Step 1\n",
        "# Alice generates bits\n",
        "alice_bits = randint(2, size=n)\n",
        "\n",
        "## Step 2\n",
        "# Create an array to tell us which qubits\n",
        "# are encoded in which bases\n",
        "alice_bases = randint(2, size=n)\n",
        "message = encode_message(alice_bits, alice_bases)\n",
        "\n",
        "## Step 3\n",
        "# Decide which basis to measure in:\n",
        "bob_bases = randint(2, size=n)\n",
        "bob_results = measure_message(message, bob_bases)\n",
        "\n",
        "## Step 4\n",
        "alice_key = remove_garbage(alice_bases, bob_bases, alice_bits)\n",
        "bob_key = remove_garbage(alice_bases, bob_bases, bob_results)\n",
        "\n",
        "## Step 5\n",
        "sample_size = 15\n",
        "bit_selection = randint(n, size=sample_size)\n",
        "\n",
        "bob_sample = sample_bits(bob_key, bit_selection)\n",
        "print(\"  bob_sample = \" + str(bob_sample))\n",
        "alice_sample = sample_bits(alice_key, bit_selection)\n",
        "print(\"alice_sample = \"+ str(alice_sample))\n",
        "bob_sample == alice_sample"
      ],
      "metadata": {
        "id": "iLHg7M7yDDlF"
      },
      "execution_count": null,
      "outputs": []
    },
    {
      "cell_type": "code",
      "source": [
        "print(bob_key)\n",
        "print(alice_key)\n",
        "print(\"key length = %i\" % len(alice_key))"
      ],
      "metadata": {
        "id": "T1Nek5uUDolI"
      },
      "execution_count": null,
      "outputs": []
    },
    {
      "cell_type": "code",
      "source": [
        "print('bit = %i' % alice_bits[0])\n",
        "print('basis = %i' % alice_bases[0])\n",
        "message[0].draw('mpl')"
      ],
      "metadata": {
        "id": "KV5EOU3ABPNw"
      },
      "execution_count": null,
      "outputs": []
    },
    {
      "cell_type": "code",
      "source": [
        "print('bit = %i' % alice_bits[6])\n",
        "print('basis = %i' % alice_bases[6])\n",
        "message[6].draw('mpl')"
      ],
      "metadata": {
        "id": "cJSwSbu8BvnG"
      },
      "execution_count": null,
      "outputs": []
    },
    {
      "cell_type": "code",
      "source": [
        "print(bob_results)"
      ],
      "metadata": {
        "id": "y9u_Hwq7BnkQ"
      },
      "execution_count": null,
      "outputs": []
    },
    {
      "cell_type": "markdown",
      "source": [
        "## Topic 5 Quantum Computing Applications"
      ],
      "metadata": {
        "id": "aJJXdyYWEy9I"
      }
    },
    {
      "cell_type": "code",
      "source": [
        "import numpy as np\n",
        "import matplotlib.pyplot as plt\n",
        "\n",
        "from qiskit import Aer, QuantumCircuit\n",
        "from qiskit.opflow import Z, I, StateFn\n",
        "from qiskit.utils import QuantumInstance, algorithm_globals\n",
        "from qiskit.circuit import Parameter\n",
        "from qiskit.circuit.library import RealAmplitudes, ZZFeatureMap\n",
        "from qiskit.algorithms.optimizers import COBYLA, L_BFGS_B\n",
        "\n",
        "from qiskit_machine_learning.neural_networks import TwoLayerQNN, CircuitQNN\n",
        "from qiskit_machine_learning.algorithms.classifiers import NeuralNetworkClassifier, VQC\n",
        "from qiskit_machine_learning.algorithms.regressors import NeuralNetworkRegressor, VQR\n",
        "\n",
        "from typing import Union\n",
        "\n",
        "from qiskit_machine_learning.exceptions import QiskitMachineLearningError\n",
        "\n",
        "from IPython.display import clear_output\n",
        "\n",
        "algorithm_globals.random_seed = 42"
      ],
      "metadata": {
        "id": "_V4jstHDB6ct"
      },
      "execution_count": null,
      "outputs": []
    },
    {
      "cell_type": "code",
      "source": [
        "quantum_instance = QuantumInstance(Aer.get_backend(\"aer_simulator\"), shots=1024)"
      ],
      "metadata": {
        "id": "WFRIgEhBB_tr"
      },
      "execution_count": null,
      "outputs": []
    },
    {
      "cell_type": "markdown",
      "source": [
        "### Classification wth QNN"
      ],
      "metadata": {
        "id": "0HN7MEbgDOGy"
      }
    },
    {
      "cell_type": "code",
      "source": [
        "num_inputs = 2\n",
        "num_samples = 20\n",
        "X = 2 * algorithm_globals.random.random([num_samples, num_inputs]) - 1\n",
        "y01 = 1 * (np.sum(X, axis=1) >= 0)  # in { 0,  1}\n",
        "y = 2 * y01 - 1  # in {-1, +1}\n",
        "y_one_hot = np.zeros((num_samples, 2))\n",
        "for i in range(num_samples):\n",
        "    y_one_hot[i, y01[i]] = 1\n",
        "\n",
        "for x, y_target in zip(X, y):\n",
        "    if y_target == 1:\n",
        "        plt.plot(x[0], x[1], \"bo\")\n",
        "    else:\n",
        "        plt.plot(x[0], x[1], \"go\")\n",
        "plt.plot([-1, 1], [1, -1], \"--\", color=\"black\")\n",
        "plt.show()"
      ],
      "metadata": {
        "id": "LiSyjvHFCE8l"
      },
      "execution_count": null,
      "outputs": []
    },
    {
      "cell_type": "code",
      "source": [
        "# construct QNN\n",
        "opflow_qnn = TwoLayerQNN(num_inputs, quantum_instance=quantum_instance)"
      ],
      "metadata": {
        "id": "7BujPWDlCaIl"
      },
      "execution_count": null,
      "outputs": []
    },
    {
      "cell_type": "code",
      "source": [
        "# QNN maps inputs to [-1, +1]\n",
        "opflow_qnn.forward(X[0, :], algorithm_globals.random.random(opflow_qnn.num_weights))"
      ],
      "metadata": {
        "id": "7uqZ9-4rCcEB"
      },
      "execution_count": null,
      "outputs": []
    },
    {
      "cell_type": "code",
      "source": [
        "# callback function that draws a live plot when the .fit() method is called\n",
        "def callback_graph(weights, obj_func_eval):\n",
        "    clear_output(wait=True)\n",
        "    objective_func_vals.append(obj_func_eval)\n",
        "    plt.title(\"Objective function value against iteration\")\n",
        "    plt.xlabel(\"Iteration\")\n",
        "    plt.ylabel(\"Objective function value\")\n",
        "    plt.plot(range(len(objective_func_vals)), objective_func_vals)\n",
        "    plt.show()"
      ],
      "metadata": {
        "id": "Q-oMwCRhCN7U"
      },
      "execution_count": null,
      "outputs": []
    },
    {
      "cell_type": "code",
      "source": [
        "# construct neural network classifier\n",
        "opflow_classifier = NeuralNetworkClassifier(opflow_qnn, optimizer=COBYLA(), callback=callback_graph)"
      ],
      "metadata": {
        "id": "jmbKuj74CQQB"
      },
      "execution_count": null,
      "outputs": []
    },
    {
      "cell_type": "code",
      "source": [
        "# QNN maps inputs to [-1, +1]\n",
        "opflow_qnn.forward(X[0, :], algorithm_globals.random.random(opflow_qnn.num_weights))"
      ],
      "metadata": {
        "id": "MukT_jSUCW1Y"
      },
      "execution_count": null,
      "outputs": []
    },
    {
      "cell_type": "code",
      "source": [
        "# create empty array for callback to store evaluations of the objective function\n",
        "objective_func_vals = []\n",
        "plt.rcParams[\"figure.figsize\"] = (12, 6)\n",
        "\n",
        "# fit classifier to data\n",
        "opflow_classifier.fit(X, y)\n",
        "\n",
        "# return to default figsize\n",
        "plt.rcParams[\"figure.figsize\"] = (6, 4)\n",
        "\n",
        "# score classifier\n",
        "opflow_classifier.score(X, y)"
      ],
      "metadata": {
        "id": "LhkAX5sqChHe"
      },
      "execution_count": null,
      "outputs": []
    },
    {
      "cell_type": "code",
      "source": [
        "# evaluate data points\n",
        "y_predict = opflow_classifier.predict(X)\n",
        "\n",
        "# plot results\n",
        "# red == wrongly classified\n",
        "for x, y_target, y_p in zip(X, y, y_predict):\n",
        "    if y_target == 1:\n",
        "        plt.plot(x[0], x[1], \"bo\")\n",
        "    else:\n",
        "        plt.plot(x[0], x[1], \"go\")\n",
        "    if y_target != y_p:\n",
        "        plt.scatter(x[0], x[1], s=200, facecolors=\"none\", edgecolors=\"r\", linewidths=2)\n",
        "plt.plot([-1, 1], [1, -1], \"--\", color=\"black\")\n",
        "plt.show()"
      ],
      "metadata": {
        "id": "kLwX5pI9DGMx"
      },
      "execution_count": null,
      "outputs": []
    },
    {
      "cell_type": "code",
      "source": [
        "from qiskit import BasicAer\n",
        "from qiskit.utils import QuantumInstance, algorithm_globals\n",
        "from qiskit.algorithms.optimizers import COBYLA\n",
        "from qiskit.circuit.library import TwoLocal\n",
        "from qiskit_machine_learning.algorithms import VQC\n",
        "from qiskit_machine_learning.datasets import wine\n",
        "from qiskit_machine_learning.circuit.library import RawFeatureVector\n",
        "\n",
        "seed = 1376\n",
        "algorithm_globals.random_seed = seed\n",
        "\n",
        "# Use Wine data set for training and test data\n",
        "feature_dim = 4  # dimension of each data point\n",
        "training_size = 12\n",
        "test_size = 4\n",
        "\n",
        "# training features, training labels, test features, test labels as np.array,\n",
        "# one hot encoding for labels\n",
        "training_features, training_labels, test_features, test_labels = \\\n",
        "    wine(training_size=training_size, test_size=test_size, n=feature_dim)\n",
        "\n",
        "feature_map = RawFeatureVector(feature_dimension=feature_dim)\n",
        "ansatz = TwoLocal(feature_map.num_qubits, ['ry', 'rz'], 'cz', reps=3)\n",
        "vqc = VQC(feature_map=feature_map,\n",
        "            ansatz=ansatz,\n",
        "            optimizer=COBYLA(maxiter=100),\n",
        "            quantum_instance=QuantumInstance(BasicAer.get_backend('statevector_simulator'),\n",
        "                                            shots=1024,\n",
        "                                            seed_simulator=seed,\n",
        "                                            seed_transpiler=seed)\n",
        "            )\n",
        "vqc.fit(training_features, training_labels)\n",
        "\n",
        "score = vqc.score(test_features, test_labels)\n",
        "print('Testing accuracy: {:0.2f}'.format(score))"
      ],
      "metadata": {
        "id": "8cxHFxMDAQue"
      },
      "execution_count": null,
      "outputs": []
    },
    {
      "cell_type": "markdown",
      "source": [
        "### Regression with QNN"
      ],
      "metadata": {
        "id": "n9cxsURkExv0"
      }
    },
    {
      "cell_type": "code",
      "source": [
        "num_samples = 20\n",
        "eps = 0.2\n",
        "lb, ub = -np.pi, np.pi\n",
        "X_ = np.linspace(lb, ub, num=50).reshape(50, 1)\n",
        "f = lambda x: np.sin(x)\n",
        "\n",
        "X = (ub - lb) * algorithm_globals.random.random([num_samples, 1]) + lb\n",
        "y = f(X[:, 0]) + eps * (2 * algorithm_globals.random.random(num_samples) - 1)\n",
        "\n",
        "plt.plot(X_, f(X_), \"r--\")\n",
        "plt.plot(X, y, \"bo\")\n",
        "plt.show()"
      ],
      "metadata": {
        "id": "9S1pkVdJEzo5"
      },
      "execution_count": null,
      "outputs": []
    },
    {
      "cell_type": "code",
      "source": [
        "# construct simple feature map\n",
        "param_x = Parameter(\"x\")\n",
        "feature_map = QuantumCircuit(1, name=\"fm\")\n",
        "feature_map.ry(param_x, 0)\n",
        "\n",
        "# construct simple ansatz\n",
        "param_y = Parameter(\"y\")\n",
        "ansatz = QuantumCircuit(1, name=\"vf\")\n",
        "ansatz.ry(param_y, 0)\n",
        "\n",
        "# construct QNN\n",
        "regression_opflow_qnn = TwoLayerQNN(1, feature_map, ansatz, quantum_instance=quantum_instance)"
      ],
      "metadata": {
        "id": "Bg9NLpZQE2rs"
      },
      "execution_count": null,
      "outputs": []
    },
    {
      "cell_type": "code",
      "source": [
        "# construct the regressor from the neural network\n",
        "regressor = NeuralNetworkRegressor(\n",
        "    neural_network=regression_opflow_qnn, loss=\"l2\", optimizer=L_BFGS_B(), callback=callback_graph\n",
        ")"
      ],
      "metadata": {
        "id": "sVYlVxMAE5l5"
      },
      "execution_count": null,
      "outputs": []
    },
    {
      "cell_type": "code",
      "source": [
        "# create empty array for callback to store evaluations of the objective function\n",
        "objective_func_vals = []\n",
        "plt.rcParams[\"figure.figsize\"] = (12, 6)\n",
        "\n",
        "# fit to data\n",
        "regressor.fit(X, y)\n",
        "\n",
        "# return to default figsize\n",
        "plt.rcParams[\"figure.figsize\"] = (6, 4)\n",
        "\n",
        "# score the result\n",
        "regressor.score(X, y)"
      ],
      "metadata": {
        "id": "CrrN4F0bE7mu"
      },
      "execution_count": null,
      "outputs": []
    },
    {
      "cell_type": "code",
      "source": [
        "# plot target function\n",
        "plt.plot(X_, f(X_), \"r--\")\n",
        "\n",
        "# plot data\n",
        "plt.plot(X, y, \"bo\")\n",
        "\n",
        "# plot fitted line\n",
        "y_ = regressor.predict(X_)\n",
        "plt.plot(X_, y_, \"g-\")\n",
        "plt.show()"
      ],
      "metadata": {
        "id": "tZrT9JoAFA_F"
      },
      "execution_count": null,
      "outputs": []
    },
    {
      "cell_type": "markdown",
      "source": [
        "### Variational Quantum Eigensolver "
      ],
      "metadata": {
        "id": "mrEzmdytF9t6"
      }
    },
    {
      "cell_type": "code",
      "source": [
        "try:\n",
        "    import cirq\n",
        "except ImportError:\n",
        "    print(\"installing cirq...\")\n",
        "    !pip install --quiet cirq\n",
        "    print(\"installed cirq.\")"
      ],
      "metadata": {
        "id": "0QwckNpkSNcc"
      },
      "execution_count": null,
      "outputs": []
    },
    {
      "cell_type": "code",
      "source": [
        "import cirq\n",
        "\n",
        "# define the length and width of the grid.\n",
        "length = 3\n",
        "\n",
        "# define qubits on the grid.\n",
        "qubits = cirq.GridQubit.square(length)\n",
        "\n",
        "print(qubits)"
      ],
      "metadata": {
        "id": "_hz9DZmpSU3h"
      },
      "execution_count": null,
      "outputs": []
    },
    {
      "cell_type": "code",
      "source": [
        "circuit = cirq.Circuit()\n",
        "circuit.append(cirq.H(q) for q in qubits if (q.row + q.col) % 2 == 0)\n",
        "circuit.append(cirq.X(q) for q in qubits if (q.row + q.col) % 2 == 1)\n",
        "\n",
        "print(circuit)"
      ],
      "metadata": {
        "id": "g32nBNgtSYXe"
      },
      "execution_count": null,
      "outputs": []
    },
    {
      "cell_type": "code",
      "source": [
        "def rot_x_layer(length, half_turns):\n",
        "    \"\"\"Yields X rotations by half_turns on a square grid of given length.\"\"\"\n",
        "\n",
        "    # Define the gate once and then re-use it for each Operation.\n",
        "    rot = cirq.XPowGate(exponent=half_turns)\n",
        "\n",
        "    # Create an X rotation Operation for each qubit in the grid.\n",
        "    for i in range(length):\n",
        "        for j in range(length):\n",
        "            yield rot(cirq.GridQubit(i, j))\n",
        "\n",
        "# Create the circuit using the rot_x_layer generator\n",
        "circuit = cirq.Circuit()\n",
        "circuit.append(rot_x_layer(2, 0.1))\n",
        "print(circuit)"
      ],
      "metadata": {
        "id": "kX0y9qq6SdLB"
      },
      "execution_count": null,
      "outputs": []
    },
    {
      "cell_type": "code",
      "source": [
        "import random\n",
        "def rand2d(rows, cols):\n",
        "    return [[random.choice([+1, -1]) for _ in range(cols)] for _ in range(rows)]\n",
        "\n",
        "def random_instance(length):\n",
        "    # transverse field terms\n",
        "    h = rand2d(length, length)\n",
        "    # links within a row\n",
        "    jr = rand2d(length - 1, length)\n",
        "    # links within a column\n",
        "    jc = rand2d(length, length - 1)\n",
        "    return (h, jr, jc)\n",
        "\n",
        "h, jr, jc = random_instance(3)\n",
        "print(f'transverse fields: {h}')\n",
        "print(f'row j fields: {jr}')\n",
        "print(f'column j fields: {jc}')"
      ],
      "metadata": {
        "id": "BwJKptI0SgjL"
      },
      "execution_count": null,
      "outputs": []
    },
    {
      "cell_type": "code",
      "source": [
        "def prepare_plus_layer(length):\n",
        "    for i in range(length):\n",
        "        for j in range(length):\n",
        "            yield cirq.H(cirq.GridQubit(i, j))"
      ],
      "metadata": {
        "id": "w9QbMFo9Sj7C"
      },
      "execution_count": null,
      "outputs": []
    },
    {
      "cell_type": "code",
      "source": [
        "def rot_z_layer(h, half_turns):\n",
        "    \"\"\"Yields Z rotations by half_turns conditioned on the field h.\"\"\"\n",
        "    gate = cirq.ZPowGate(exponent=half_turns)\n",
        "    for i, h_row in enumerate(h):\n",
        "        for j, h_ij in enumerate(h_row):\n",
        "            if h_ij == 1:\n",
        "                yield gate(cirq.GridQubit(i, j))"
      ],
      "metadata": {
        "id": "ZQFKvqFlSmsI"
      },
      "execution_count": null,
      "outputs": []
    },
    {
      "cell_type": "code",
      "source": [
        "def rot_11_layer(jr, jc, half_turns):\n",
        "    \"\"\"Yields rotations about |11> conditioned on the jr and jc fields.\"\"\"\n",
        "    cz_gate = cirq.CZPowGate(exponent=half_turns)    \n",
        "    for i, jr_row in enumerate(jr):\n",
        "        for j, jr_ij in enumerate(jr_row):\n",
        "            q = cirq.GridQubit(i, j)\n",
        "            q_1 = cirq.GridQubit(i + 1, j)\n",
        "            if jr_ij == -1:\n",
        "                yield cirq.X(q)\n",
        "                yield cirq.X(q_1)\n",
        "            yield cz_gate(q, q_1)\n",
        "            if jr_ij == -1:\n",
        "                yield cirq.X(q)\n",
        "                yield cirq.X(q_1)\n",
        "\n",
        "    for i, jc_row in enumerate(jc):\n",
        "        for j, jc_ij in enumerate(jc_row):\n",
        "            q = cirq.GridQubit(i, j)\n",
        "            q_1 = cirq.GridQubit(i, j + 1)\n",
        "            if jc_ij == -1:\n",
        "                yield cirq.X(q)\n",
        "                yield cirq.X(q_1)\n",
        "            yield cz_gate(q, q_1)\n",
        "            if jc_ij == -1:\n",
        "                yield cirq.X(q)\n",
        "                yield cirq.X(q_1)"
      ],
      "metadata": {
        "id": "qabS7K8ySpxi"
      },
      "execution_count": null,
      "outputs": []
    },
    {
      "cell_type": "code",
      "source": [
        "def initial_step(length):\n",
        "    yield prepare_plus_layer(length)\n",
        "\n",
        "def one_step(h, jr, jc, x_half_turns, h_half_turns, j_half_turns):\n",
        "    length = len(h)\n",
        "    yield rot_z_layer(h, h_half_turns)\n",
        "    yield rot_11_layer(jr, jc, j_half_turns)\n",
        "    yield rot_x_layer(length, x_half_turns)\n",
        "\n",
        "h, jr, jc = random_instance(3)\n",
        "\n",
        "circuit = cirq.Circuit()  \n",
        "circuit.append(initial_step(len(h)))\n",
        "circuit.append(one_step(h, jr, jc, 0.1, 0.2, 0.3))\n",
        "print(circuit)"
      ],
      "metadata": {
        "id": "gXcmpwMJStba"
      },
      "execution_count": null,
      "outputs": []
    },
    {
      "cell_type": "code",
      "source": [
        "simulator = cirq.Simulator()\n",
        "circuit = cirq.Circuit()\n",
        "circuit.append(initial_step(len(h)))\n",
        "circuit.append(one_step(h, jr, jc, 0.1, 0.2, 0.3))\n",
        "circuit.append(cirq.measure(*qubits, key='x'))\n",
        "results = simulator.run(circuit, repetitions=100)\n",
        "print(results.histogram(key='x'))"
      ],
      "metadata": {
        "id": "6EAjeAdoSwuV"
      },
      "execution_count": null,
      "outputs": []
    },
    {
      "cell_type": "code",
      "source": [
        "import numpy as np\n",
        "\n",
        "def energy_func(length, h, jr, jc):\n",
        "    def energy(measurements):\n",
        "        # Reshape measurement into array that matches grid shape.\n",
        "        meas_list_of_lists = [measurements[i * length:(i + 1) * length]\n",
        "                              for i in range(length)]\n",
        "        # Convert true/false to +1/-1.\n",
        "        pm_meas = 1 - 2 * np.array(meas_list_of_lists).astype(np.int32)\n",
        "\n",
        "        tot_energy = np.sum(pm_meas * h)\n",
        "        for i, jr_row in enumerate(jr):\n",
        "            for j, jr_ij in enumerate(jr_row):\n",
        "                tot_energy += jr_ij * pm_meas[i, j] * pm_meas[i + 1, j]\n",
        "        for i, jc_row in enumerate(jc):\n",
        "            for j, jc_ij in enumerate(jc_row):\n",
        "                tot_energy += jc_ij * pm_meas[i, j] * pm_meas[i, j + 1]\n",
        "        return tot_energy\n",
        "    return energy\n",
        "print(results.histogram(key='x', fold_func=energy_func(3, h, jr, jc)))"
      ],
      "metadata": {
        "id": "gblS-F4RS0CE"
      },
      "execution_count": null,
      "outputs": []
    },
    {
      "cell_type": "code",
      "source": [
        "def obj_func(result):\n",
        "    energy_hist = result.histogram(key='x', fold_func=energy_func(3, h, jr, jc))\n",
        "    return np.sum([k * v for k,v in energy_hist.items()]) / result.repetitions\n",
        "print(f'Value of the objective function {obj_func(results)}')"
      ],
      "metadata": {
        "id": "Q1Y2QOxyS3xI"
      },
      "execution_count": null,
      "outputs": []
    },
    {
      "cell_type": "code",
      "source": [
        "import sympy\n",
        "circuit = cirq.Circuit()\n",
        "alpha = sympy.Symbol('alpha')\n",
        "beta = sympy.Symbol('beta')\n",
        "gamma = sympy.Symbol('gamma')\n",
        "circuit.append(initial_step(len(h)))\n",
        "circuit.append(one_step(h, jr, jc, alpha, beta, gamma))\n",
        "circuit.append(cirq.measure(*qubits, key='x'))\n",
        "print(circuit)"
      ],
      "metadata": {
        "id": "m5ULwObIS72F"
      },
      "execution_count": null,
      "outputs": []
    },
    {
      "cell_type": "code",
      "source": [
        "resolver = cirq.ParamResolver({'alpha': 0.1, 'beta': 0.3, 'gamma': 0.7})\n",
        "resolved_circuit = cirq.resolve_parameters(circuit, resolver)"
      ],
      "metadata": {
        "id": "rdqIegeKTAOD"
      },
      "execution_count": null,
      "outputs": []
    },
    {
      "cell_type": "code",
      "source": [
        "sweep = (cirq.Linspace(key='alpha', start=0.1, stop=0.9, length=5)\n",
        "         * cirq.Linspace(key='beta', start=0.1, stop=0.9, length=5)\n",
        "         * cirq.Linspace(key='gamma', start=0.1, stop=0.9, length=5))\n",
        "results = simulator.run_sweep(circuit, params=sweep, repetitions=100)\n",
        "for result in results:\n",
        "    print(result.params.param_dict, obj_func(result))"
      ],
      "metadata": {
        "id": "FpVtP2sqTDMr"
      },
      "execution_count": null,
      "outputs": []
    },
    {
      "cell_type": "code",
      "source": [
        "sweep_size = 10\n",
        "sweep = (cirq.Linspace(key='alpha', start=0.0, stop=1.0, length=sweep_size)\n",
        "         * cirq.Linspace(key='beta', start=0.0, stop=1.0, length=sweep_size)\n",
        "         * cirq.Linspace(key='gamma', start=0.0, stop=1.0, length=sweep_size))\n",
        "results = simulator.run_sweep(circuit, params=sweep, repetitions=100)\n",
        "\n",
        "min = None\n",
        "min_params = None\n",
        "for result in results:\n",
        "    value = obj_func(result)\n",
        "    if min is None or value < min:\n",
        "        min = value\n",
        "        min_params = result.params\n",
        "print(f'Minimum objective value is {min}.')"
      ],
      "metadata": {
        "id": "elyTUCieTHts"
      },
      "execution_count": null,
      "outputs": []
    },
    {
      "cell_type": "markdown",
      "source": [
        "### Rabi's Oscillation"
      ],
      "metadata": {
        "id": "U-LSzMr2GG7h"
      }
    },
    {
      "cell_type": "code",
      "source": [
        "import cirq\n",
        "import cirq_google\n",
        "working_device = cirq_google.Sycamore\n",
        "print(working_device)"
      ],
      "metadata": {
        "id": "9br9oRxZMrX-"
      },
      "execution_count": null,
      "outputs": []
    },
    {
      "cell_type": "code",
      "source": [
        "my_qubit = cirq.GridQubit(5, 6)"
      ],
      "metadata": {
        "id": "92AOJD-I-RfF"
      },
      "execution_count": null,
      "outputs": []
    },
    {
      "cell_type": "code",
      "source": [
        "from cirq.contrib.svg import SVGCircuit\n",
        "\n",
        "# Create a circuit with X, Ry(pi/2) and H.\n",
        "my_circuit = cirq.Circuit(\n",
        "    # Rotate the qubit pi/2 radians around the X axis.\n",
        "    cirq.rx(3.141 / 2).on(my_qubit),\n",
        "    # Measure the qubit.\n",
        "    cirq.measure(my_qubit, key='out')\n",
        ")\n",
        "SVGCircuit(my_circuit)"
      ],
      "metadata": {
        "id": "NADF3UFHGCMv"
      },
      "execution_count": null,
      "outputs": []
    },
    {
      "cell_type": "code",
      "source": [
        "sim = cirq.Simulator()\n",
        "samples = sim.sample(my_circuit, repetitions=10)\n",
        "samples"
      ],
      "metadata": {
        "id": "IioeO0KhmK4Z"
      },
      "execution_count": null,
      "outputs": []
    },
    {
      "cell_type": "code",
      "source": [
        "state_vector_before_measurement = sim.simulate(my_circuit[:-1])\n",
        "sampled_state_vector_after_measurement = sim.simulate(my_circuit)\n",
        "\n",
        "print(f'State before measurement:')\n",
        "print(state_vector_before_measurement)\n",
        "print(f'State after measurement:')\n",
        "print(sampled_state_vector_after_measurement)"
      ],
      "metadata": {
        "id": "LyXUPw2lmNSN"
      },
      "execution_count": null,
      "outputs": []
    },
    {
      "cell_type": "code",
      "source": [
        "noisy_sim = cirq.DensityMatrixSimulator(noise=cirq.depolarize(0.1))\n",
        "noisy_post_measurement_state = noisy_sim.simulate(my_circuit)\n",
        "noisy_pre_measurement_state = noisy_sim.simulate(my_circuit[:-1])\n",
        "\n",
        "print('Noisy state after measurement:' + str(noisy_post_measurement_state))\n",
        "print('Noisy state before measurement:' + str(noisy_pre_measurement_state))"
      ],
      "metadata": {
        "id": "JExY6XUBmSN0"
      },
      "execution_count": null,
      "outputs": []
    },
    {
      "cell_type": "code",
      "source": [
        "import sympy\n",
        "theta = sympy.Symbol('theta')\n",
        "\n",
        "parameterized_circuit = cirq.Circuit(\n",
        "    cirq.rx(theta).on(my_qubit),\n",
        "    cirq.measure(my_qubit, key='out')\n",
        ")\n",
        "SVGCircuit(parameterized_circuit)"
      ],
      "metadata": {
        "id": "6ueng3H5mUst"
      },
      "execution_count": null,
      "outputs": []
    },
    {
      "cell_type": "code",
      "source": [
        "samples_at_theta_equals_2 = sim.sample(\n",
        "    parameterized_circuit, \n",
        "    params={theta: 2}, \n",
        "    repetitions=10)\n",
        "samples_at_theta_equals_2"
      ],
      "metadata": {
        "id": "ek2YBCl_mXD4"
      },
      "execution_count": null,
      "outputs": []
    },
    {
      "cell_type": "code",
      "source": [
        "samples_at_multiple_theta = sim.sample(\n",
        "    parameterized_circuit, \n",
        "    params=[{theta: 0.5}, {theta: 3.141}], \n",
        "    repetitions=10)\n",
        "samples_at_multiple_theta"
      ],
      "metadata": {
        "id": "TQSu2WMgmY3C"
      },
      "execution_count": null,
      "outputs": []
    },
    {
      "cell_type": "code",
      "source": [
        "samples_at_swept_theta = sim.sample(\n",
        "    parameterized_circuit, \n",
        "    params=cirq.Linspace(theta, start=0, stop=3.14159, length=5), \n",
        "    repetitions=5)\n",
        "samples_at_swept_theta"
      ],
      "metadata": {
        "id": "-qEUAQl_mbVH"
      },
      "execution_count": null,
      "outputs": []
    },
    {
      "cell_type": "code",
      "source": [
        "import pandas\n",
        "\n",
        "big_results = sim.sample(\n",
        "    parameterized_circuit, \n",
        "    params=cirq.Linspace(theta, start=0, stop=3.14159, length=20), \n",
        "    repetitions=10_000)\n",
        "\n",
        "# big_results is too big to look at. Plot cross tabulated data instead.\n",
        "pandas.crosstab(big_results.theta, big_results.out).plot()"
      ],
      "metadata": {
        "id": "xsO3FbvRmdyv"
      },
      "execution_count": null,
      "outputs": []
    },
    {
      "cell_type": "code",
      "source": [
        "import datetime\n",
        "\n",
        "result = cirq.experiments.rabi_oscillations(\n",
        "    sampler=noisy_sim,\n",
        "    qubit=my_qubit,\n",
        "    num_points=50,\n",
        "    repetitions=10000)\n",
        "result.plot()"
      ],
      "metadata": {
        "id": "IJMMFP-fmgFA"
      },
      "execution_count": null,
      "outputs": []
    },
    {
      "cell_type": "markdown",
      "source": [
        "## Topic 6 Quantum Error Correctoin"
      ],
      "metadata": {
        "id": "qLwTkHJa7vZa"
      }
    },
    {
      "cell_type": "code",
      "source": [
        "from qiskit.providers.aer.noise import NoiseModel\n",
        "from qiskit.providers.aer.noise.errors import pauli_error, depolarizing_error\n",
        "from qiskit import QuantumRegister, ClassicalRegister\n",
        "from qiskit import QuantumCircuit, Aer, transpile, assemble\n",
        "from qiskit.visualization import plot_histogram\n",
        "aer_sim = Aer.get_backend('aer_simulator')"
      ],
      "metadata": {
        "id": "RtH5S--0PMxs"
      },
      "execution_count": null,
      "outputs": []
    },
    {
      "cell_type": "markdown",
      "source": [
        "### Syndrome Measurement"
      ],
      "metadata": {
        "id": "EYqnHheySUQx"
      }
    },
    {
      "cell_type": "code",
      "source": [
        "cq = QuantumRegister(2, 'code_qubit')\n",
        "lq = QuantumRegister(1, 'auxiliary_qubit')\n",
        "sb = ClassicalRegister(1, 'syndrome_bit')\n",
        "qc = QuantumCircuit(cq, lq, sb)\n",
        "qc.cx(cq[0], lq[0])\n",
        "qc.cx(cq[1], lq[0])\n",
        "qc.measure(lq, sb)\n",
        "qc.draw('mpl')"
      ],
      "metadata": {
        "id": "2QyFn-z5SlPB"
      },
      "execution_count": null,
      "outputs": []
    },
    {
      "cell_type": "code",
      "source": [
        "qc_init = QuantumCircuit(cq)\n",
        "qobj = assemble(qc.compose(qc_init, front=True))\n",
        "counts = aer_sim.run(qobj).result().get_counts()\n",
        "print('Results:', counts)"
      ],
      "metadata": {
        "id": "tU_fdbiMS2Qp"
      },
      "execution_count": null,
      "outputs": []
    },
    {
      "cell_type": "code",
      "source": [
        "qc_init = QuantumCircuit(cq)\n",
        "qc_init.x(cq)\n",
        "qc.compose(qc_init, front=True).draw('mpl')"
      ],
      "metadata": {
        "id": "hky9aBMDS9Nd"
      },
      "execution_count": null,
      "outputs": []
    },
    {
      "cell_type": "code",
      "source": [
        "qobj = assemble(qc.compose(qc_init, front=True))\n",
        "counts = aer_sim.run(qobj).result().get_counts()\n",
        "print('Results:', counts)"
      ],
      "metadata": {
        "id": "N2VGYgRmTBT9"
      },
      "execution_count": null,
      "outputs": []
    },
    {
      "cell_type": "code",
      "source": [
        "qc_init = QuantumCircuit(cq)\n",
        "qc_init.x(cq[0])\n",
        "qc.compose(qc_init, front=True).draw('mpl')"
      ],
      "metadata": {
        "id": "YSRiMcgkTFr6"
      },
      "execution_count": null,
      "outputs": []
    },
    {
      "cell_type": "code",
      "source": [
        "qobj = assemble(qc.compose(qc_init, front=True))\n",
        "counts = aer_sim.run(qobj).result().get_counts()\n",
        "print('Results:',counts)"
      ],
      "metadata": {
        "id": "VoRXizj9TJ82"
      },
      "execution_count": null,
      "outputs": []
    },
    {
      "cell_type": "markdown",
      "source": [
        "### Noise Model"
      ],
      "metadata": {
        "id": "3VWPzr7WSNKX"
      }
    },
    {
      "cell_type": "code",
      "source": [
        "def get_noise(p_meas,p_gate):\n",
        "    error_meas = pauli_error([('X',p_meas), ('I', 1 - p_meas)])\n",
        "    error_gate1 = depolarizing_error(p_gate, 1)\n",
        "    error_gate2 = error_gate1.tensor(error_gate1)\n",
        "\n",
        "    noise_model = NoiseModel()\n",
        "    noise_model.add_all_qubit_quantum_error(error_meas, \"measure\") # measurement error is applied to measurements\n",
        "    noise_model.add_all_qubit_quantum_error(error_gate1, [\"x\"]) # single qubit gate error is applied to x gates\n",
        "    noise_model.add_all_qubit_quantum_error(error_gate2, [\"cx\"]) # two qubit gate error is applied to cx gates\n",
        "        \n",
        "    return noise_model"
      ],
      "metadata": {
        "id": "NVwXvZ1GPQfL"
      },
      "execution_count": null,
      "outputs": []
    },
    {
      "cell_type": "code",
      "source": [
        "noise_model = get_noise(0.01,0.01)"
      ],
      "metadata": {
        "id": "nOp7WChNPTCO"
      },
      "execution_count": null,
      "outputs": []
    },
    {
      "cell_type": "code",
      "source": [
        "qc0 = QuantumCircuit(3) # initialize circuit with three qubits in the 0 state\n",
        "qc0.measure_all() # measure the qubits\n",
        "\n",
        "# run the circuit with the noise model and extract the counts\n",
        "qobj = assemble(qc0)\n",
        "counts = aer_sim.run(qobj, noise_model=noise_model).result().get_counts()\n",
        "\n",
        "plot_histogram(counts)"
      ],
      "metadata": {
        "id": "TsWtoMMsPVvJ"
      },
      "execution_count": null,
      "outputs": []
    },
    {
      "cell_type": "code",
      "source": [
        "qc1 = QuantumCircuit(3) # initialize circuit with three qubits in the 0 state\n",
        "qc1.x([0,1,2]) # flip each 0 to 1\n",
        "\n",
        "qc1.measure_all() # measure the qubits\n",
        "\n",
        "# run the circuit with th noise model and extract the counts\n",
        "qobj = assemble(qc1)\n",
        "counts = aer_sim.run(qobj, noise_model=noise_model).result().get_counts()\n",
        "\n",
        "plot_histogram(counts)"
      ],
      "metadata": {
        "id": "VgF0DAZYQLdj"
      },
      "execution_count": null,
      "outputs": []
    },
    {
      "cell_type": "code",
      "source": [
        "noise_model = get_noise(0.5,0.0)\n",
        "qobj = assemble(qc1)\n",
        "counts = aer_sim.run(qobj, noise_model=noise_model).result().get_counts()\n",
        "plot_histogram(counts)"
      ],
      "metadata": {
        "id": "H2yvSK0kQS_l"
      },
      "execution_count": null,
      "outputs": []
    },
    {
      "cell_type": "markdown",
      "source": [
        "### Quantum Repetition Code"
      ],
      "metadata": {
        "id": "eMa2FTd4V5TY"
      }
    },
    {
      "cell_type": "code",
      "source": [
        "from qiskit.ignis.verification.topological_codes import RepetitionCode\n",
        "from qiskit.ignis.verification.topological_codes import GraphDecoder\n",
        "from qiskit.ignis.verification.topological_codes import lookuptable_decoding, postselection_decoding\n",
        "aer_sim = Aer.get_backend('aer_simulator')"
      ],
      "metadata": {
        "id": "mHKKsiB5TQza"
      },
      "execution_count": null,
      "outputs": []
    },
    {
      "cell_type": "code",
      "source": [
        "n = 3\n",
        "T = 1\n",
        "code = RepetitionCode(n, T)"
      ],
      "metadata": {
        "id": "3GRzaTIGTTOX"
      },
      "execution_count": null,
      "outputs": []
    },
    {
      "cell_type": "code",
      "source": [
        "code.circuit['0'].draw('mpl')"
      ],
      "metadata": {
        "id": "g8qIqKc4U-Fl"
      },
      "execution_count": null,
      "outputs": []
    },
    {
      "cell_type": "code",
      "source": [
        "code.circuit['1'].draw('mpl')"
      ],
      "metadata": {
        "id": "jpl-1HKXWF9z"
      },
      "execution_count": null,
      "outputs": []
    },
    {
      "cell_type": "code",
      "source": [
        "def get_raw_results(code,noise_model=None):\n",
        "    circuits = code.get_circuit_list()\n",
        "    raw_results = {}\n",
        "    for log in range(2):\n",
        "        qobj = assemble(circuits[log])\n",
        "        job = aer_sim.run(qobj, noise_model=noise_model)\n",
        "        raw_results[str(log)] = job.result().get_counts(str(log))\n",
        "    return raw_results\n",
        "\n",
        "raw_results = get_raw_results(code)\n",
        "for log in raw_results:\n",
        "    print('Logical', log, ':', raw_results[log], '\\n')"
      ],
      "metadata": {
        "id": "2EXsuh8g7Wjh"
      },
      "execution_count": null,
      "outputs": []
    },
    {
      "cell_type": "markdown",
      "source": [
        "### Activity: Quantum Repeating Code"
      ],
      "metadata": {
        "id": "3RlUNlB36p5w"
      }
    },
    {
      "cell_type": "markdown",
      "source": [
        "#### n=2 and T=2"
      ],
      "metadata": {
        "id": "zYmyRT9-8Llm"
      }
    },
    {
      "cell_type": "code",
      "source": [
        "n = 2\n",
        "T = 2\n",
        "code = RepetitionCode(n, T)"
      ],
      "metadata": {
        "id": "w_J-kHZu6uF-"
      },
      "execution_count": null,
      "outputs": []
    },
    {
      "cell_type": "code",
      "source": [
        "code.circuit['0'].draw('mpl')"
      ],
      "metadata": {
        "id": "svC2MGiT6yYv"
      },
      "execution_count": null,
      "outputs": []
    },
    {
      "cell_type": "code",
      "source": [
        "code.circuit['1'].draw('mpl')"
      ],
      "metadata": {
        "id": "UhmwRbTU604o"
      },
      "execution_count": null,
      "outputs": []
    },
    {
      "cell_type": "code",
      "source": [
        "raw_results = get_raw_results(code)\n",
        "for log in raw_results:\n",
        "    print('Logical', log, ':', raw_results[log], '\\n')"
      ],
      "metadata": {
        "id": "3jBgXyRW7tBD"
      },
      "execution_count": null,
      "outputs": []
    },
    {
      "cell_type": "markdown",
      "source": [
        "#### n=4 and T=1"
      ],
      "metadata": {
        "id": "cAGnYDjx8Ono"
      }
    },
    {
      "cell_type": "code",
      "source": [
        "n = 4\n",
        "T = 1\n",
        "code = RepetitionCode(n, T)"
      ],
      "metadata": {
        "id": "NIJtYMXS73ow"
      },
      "execution_count": null,
      "outputs": []
    },
    {
      "cell_type": "code",
      "source": [
        "code.circuit['0'].draw('mpl')"
      ],
      "metadata": {
        "id": "eCeSKry676BH"
      },
      "execution_count": null,
      "outputs": []
    },
    {
      "cell_type": "code",
      "source": [
        "code.circuit['1'].draw('mpl')"
      ],
      "metadata": {
        "id": "-aV_rnvM77-X"
      },
      "execution_count": null,
      "outputs": []
    },
    {
      "cell_type": "code",
      "source": [
        "raw_results = get_raw_results(code)\n",
        "for log in raw_results:\n",
        "    print('Logical', log, ':', raw_results[log], '\\n')"
      ],
      "metadata": {
        "id": "s1aC4Pl479_S"
      },
      "execution_count": null,
      "outputs": []
    },
    {
      "cell_type": "markdown",
      "source": [
        "#### n=5 and T=**4**"
      ],
      "metadata": {
        "id": "2OQpJibR8Rah"
      }
    },
    {
      "cell_type": "code",
      "source": [
        "n = 5\n",
        "T = 5\n",
        "code = RepetitionCode(n, T)"
      ],
      "metadata": {
        "id": "3IeiLnXl8V6k"
      },
      "execution_count": null,
      "outputs": []
    },
    {
      "cell_type": "code",
      "source": [
        "code.circuit['0'].draw('mpl')"
      ],
      "metadata": {
        "id": "aWlTamMB8YvC"
      },
      "execution_count": null,
      "outputs": []
    },
    {
      "cell_type": "code",
      "source": [
        "code.circuit['1'].draw('mpl')"
      ],
      "metadata": {
        "id": "9IoLzuoR8gzu"
      },
      "execution_count": null,
      "outputs": []
    },
    {
      "cell_type": "code",
      "source": [
        "raw_results = get_raw_results(code)\n",
        "for log in raw_results:\n",
        "    print('Logical', log, ':', raw_results[log], '\\n')"
      ],
      "metadata": {
        "id": "25lRA4JY8oac"
      },
      "execution_count": null,
      "outputs": []
    },
    {
      "cell_type": "code",
      "source": [
        "code = RepetitionCode(3,1)\n",
        "\n",
        "raw_results = get_raw_results(code)\n",
        "\n",
        "for log in raw_results:\n",
        "    print('Logical', log,':', raw_results[log],'\\n')"
      ],
      "metadata": {
        "id": "Q5OFoPMW7Idz"
      },
      "execution_count": null,
      "outputs": []
    },
    {
      "cell_type": "code",
      "source": [
        "code = RepetitionCode(3,1)\n",
        "\n",
        "noise_model = get_noise(0.05,0.05)\n",
        "\n",
        "raw_results = get_raw_results(code,noise_model)\n",
        "for log in raw_results:\n",
        "    print('Logical', log,':', raw_results[log],'\\n')"
      ],
      "metadata": {
        "id": "hpgV8xpQ84Bs"
      },
      "execution_count": null,
      "outputs": []
    },
    {
      "cell_type": "markdown",
      "source": [
        "Our task when confronted with any of the possible outcomes we see here is to determine what the outcome should have been, if there was no noise. For an outcome of '000 00' or '111 00', the answer is obvious. These are the results we just saw for a logical 0 and logical 1, respectively, when no errors occur. The former is the most common outcome for the logical 0 even with noise, and the latter is the most common for the logical 1. We will therefore conclude that the outcome was indeed that for logical 0 whenever we encounter '000 00', and the same for logical 1 when we encounter '111 00'."
      ],
      "metadata": {
        "id": "Ne-IJHpY-Jez"
      }
    },
    {
      "cell_type": "code",
      "source": [
        ""
      ],
      "metadata": {
        "id": "_qJoc5jt1fht"
      },
      "execution_count": null,
      "outputs": []
    }
  ]
}